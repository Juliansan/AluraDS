{
 "cells": [
  {
   "cell_type": "code",
   "execution_count": 1,
   "metadata": {},
   "outputs": [],
   "source": [
    "%config IPCompleter.greedy=True"
   ]
  },
  {
   "cell_type": "code",
   "execution_count": 2,
   "metadata": {},
   "outputs": [],
   "source": [
    "import pandas as pd\n",
    "import matplotlib.pyplot as plt\n",
    "import matplotlib.ticker as tick\n",
    "import numpy as np"
   ]
  },
  {
   "cell_type": "code",
   "execution_count": 3,
   "metadata": {},
   "outputs": [],
   "source": [
    "datasus = pd.read_csv(\"https://raw.githubusercontent.com/alura-cursos/agendamento-hospitalar/main/dados/A160324189_28_143_208.csv\",\n",
    "                    encoding=\"ISO-8859-1\", \n",
    "                    skiprows = 3, sep=\";\", skipfooter=12,\n",
    "                    thousands=\".\", decimal=\",\",engine='python')"
   ]
  },
  {
   "cell_type": "code",
   "execution_count": 4,
   "metadata": {},
   "outputs": [
    {
     "data": {
      "text/html": [
       "<div>\n",
       "<style scoped>\n",
       "    .dataframe tbody tr th:only-of-type {\n",
       "        vertical-align: middle;\n",
       "    }\n",
       "\n",
       "    .dataframe tbody tr th {\n",
       "        vertical-align: top;\n",
       "    }\n",
       "\n",
       "    .dataframe thead th {\n",
       "        text-align: right;\n",
       "    }\n",
       "</style>\n",
       "<table border=\"1\" class=\"dataframe\">\n",
       "  <thead>\n",
       "    <tr style=\"text-align: right;\">\n",
       "      <th></th>\n",
       "      <th>Unidade da Federação</th>\n",
       "      <th>1992/Mar</th>\n",
       "      <th>1992/Abr</th>\n",
       "      <th>1993/Mai</th>\n",
       "      <th>1993/Dez</th>\n",
       "      <th>1994/Jan</th>\n",
       "      <th>1994/Fev</th>\n",
       "      <th>1994/Mai</th>\n",
       "      <th>1994/Ago</th>\n",
       "      <th>1994/Nov</th>\n",
       "      <th>...</th>\n",
       "      <th>2019/Dez</th>\n",
       "      <th>2020/Jan</th>\n",
       "      <th>2020/Fev</th>\n",
       "      <th>2020/Mar</th>\n",
       "      <th>2020/Abr</th>\n",
       "      <th>2020/Mai</th>\n",
       "      <th>2020/Jun</th>\n",
       "      <th>2020/Jul</th>\n",
       "      <th>2020/Ago</th>\n",
       "      <th>Total</th>\n",
       "    </tr>\n",
       "  </thead>\n",
       "  <tbody>\n",
       "    <tr>\n",
       "      <th>22</th>\n",
       "      <td>43 Rio Grande do Sul</td>\n",
       "      <td>-</td>\n",
       "      <td>-</td>\n",
       "      <td>-</td>\n",
       "      <td>-</td>\n",
       "      <td>-</td>\n",
       "      <td>-</td>\n",
       "      <td>-</td>\n",
       "      <td>-</td>\n",
       "      <td>-</td>\n",
       "      <td>...</td>\n",
       "      <td>88720873.59</td>\n",
       "      <td>97474362.62</td>\n",
       "      <td>85451646.35</td>\n",
       "      <td>84651396.59</td>\n",
       "      <td>76294596.96</td>\n",
       "      <td>86076113.42</td>\n",
       "      <td>89019478.82</td>\n",
       "      <td>78929703.81</td>\n",
       "      <td>28349257.38</td>\n",
       "      <td>1.195865e+10</td>\n",
       "    </tr>\n",
       "    <tr>\n",
       "      <th>23</th>\n",
       "      <td>50 Mato Grosso do Sul</td>\n",
       "      <td>-</td>\n",
       "      <td>-</td>\n",
       "      <td>-</td>\n",
       "      <td>-</td>\n",
       "      <td>-</td>\n",
       "      <td>-</td>\n",
       "      <td>-</td>\n",
       "      <td>-</td>\n",
       "      <td>-</td>\n",
       "      <td>...</td>\n",
       "      <td>17844511.04</td>\n",
       "      <td>18653296.92</td>\n",
       "      <td>17769247.00</td>\n",
       "      <td>17357008.80</td>\n",
       "      <td>15652772.51</td>\n",
       "      <td>16703851.10</td>\n",
       "      <td>15838659.34</td>\n",
       "      <td>12508717.35</td>\n",
       "      <td>4059220.22</td>\n",
       "      <td>2.172158e+09</td>\n",
       "    </tr>\n",
       "    <tr>\n",
       "      <th>24</th>\n",
       "      <td>51 Mato Grosso</td>\n",
       "      <td>-</td>\n",
       "      <td>-</td>\n",
       "      <td>-</td>\n",
       "      <td>-</td>\n",
       "      <td>-</td>\n",
       "      <td>-</td>\n",
       "      <td>-</td>\n",
       "      <td>-</td>\n",
       "      <td>-</td>\n",
       "      <td>...</td>\n",
       "      <td>13827706.20</td>\n",
       "      <td>15445693.74</td>\n",
       "      <td>14431171.87</td>\n",
       "      <td>14444207.60</td>\n",
       "      <td>11943713.53</td>\n",
       "      <td>13981483.29</td>\n",
       "      <td>14585009.42</td>\n",
       "      <td>13083151.70</td>\n",
       "      <td>6174224.99</td>\n",
       "      <td>2.036924e+09</td>\n",
       "    </tr>\n",
       "    <tr>\n",
       "      <th>25</th>\n",
       "      <td>52 Goiás</td>\n",
       "      <td>-</td>\n",
       "      <td>-</td>\n",
       "      <td>-</td>\n",
       "      <td>-</td>\n",
       "      <td>-</td>\n",
       "      <td>-</td>\n",
       "      <td>-</td>\n",
       "      <td>-</td>\n",
       "      <td>-</td>\n",
       "      <td>...</td>\n",
       "      <td>34050298.55</td>\n",
       "      <td>36312121.02</td>\n",
       "      <td>34158023.81</td>\n",
       "      <td>34558308.52</td>\n",
       "      <td>27499307.93</td>\n",
       "      <td>31870107.62</td>\n",
       "      <td>34437633.20</td>\n",
       "      <td>33499284.38</td>\n",
       "      <td>20242641.73</td>\n",
       "      <td>4.657349e+09</td>\n",
       "    </tr>\n",
       "    <tr>\n",
       "      <th>26</th>\n",
       "      <td>53 Distrito Federal</td>\n",
       "      <td>-</td>\n",
       "      <td>-</td>\n",
       "      <td>-</td>\n",
       "      <td>-</td>\n",
       "      <td>-</td>\n",
       "      <td>-</td>\n",
       "      <td>-</td>\n",
       "      <td>-</td>\n",
       "      <td>-</td>\n",
       "      <td>...</td>\n",
       "      <td>19207148.01</td>\n",
       "      <td>20429067.27</td>\n",
       "      <td>18219172.96</td>\n",
       "      <td>19405446.88</td>\n",
       "      <td>18123899.78</td>\n",
       "      <td>21437430.22</td>\n",
       "      <td>23479773.03</td>\n",
       "      <td>22233542.26</td>\n",
       "      <td>12044848.02</td>\n",
       "      <td>2.429933e+09</td>\n",
       "    </tr>\n",
       "  </tbody>\n",
       "</table>\n",
       "<p>5 rows × 280 columns</p>\n",
       "</div>"
      ],
      "text/plain": [
       "     Unidade da Federação 1992/Mar 1992/Abr 1993/Mai 1993/Dez 1994/Jan  \\\n",
       "22   43 Rio Grande do Sul        -        -        -        -        -   \n",
       "23  50 Mato Grosso do Sul        -        -        -        -        -   \n",
       "24         51 Mato Grosso        -        -        -        -        -   \n",
       "25               52 Goiás        -        -        -        -        -   \n",
       "26    53 Distrito Federal        -        -        -        -        -   \n",
       "\n",
       "   1994/Fev 1994/Mai 1994/Ago 1994/Nov  ...     2019/Dez     2020/Jan  \\\n",
       "22        -        -        -        -  ...  88720873.59  97474362.62   \n",
       "23        -        -        -        -  ...  17844511.04  18653296.92   \n",
       "24        -        -        -        -  ...  13827706.20  15445693.74   \n",
       "25        -        -        -        -  ...  34050298.55  36312121.02   \n",
       "26        -        -        -        -  ...  19207148.01  20429067.27   \n",
       "\n",
       "       2020/Fev     2020/Mar     2020/Abr     2020/Mai     2020/Jun  \\\n",
       "22  85451646.35  84651396.59  76294596.96  86076113.42  89019478.82   \n",
       "23  17769247.00  17357008.80  15652772.51  16703851.10  15838659.34   \n",
       "24  14431171.87  14444207.60  11943713.53  13981483.29  14585009.42   \n",
       "25  34158023.81  34558308.52  27499307.93  31870107.62  34437633.20   \n",
       "26  18219172.96  19405446.88  18123899.78  21437430.22  23479773.03   \n",
       "\n",
       "       2020/Jul     2020/Ago         Total  \n",
       "22  78929703.81  28349257.38  1.195865e+10  \n",
       "23  12508717.35   4059220.22  2.172158e+09  \n",
       "24  13083151.70   6174224.99  2.036924e+09  \n",
       "25  33499284.38  20242641.73  4.657349e+09  \n",
       "26  22233542.26  12044848.02  2.429933e+09  \n",
       "\n",
       "[5 rows x 280 columns]"
      ]
     },
     "execution_count": 4,
     "metadata": {},
     "output_type": "execute_result"
    }
   ],
   "source": [
    "datasus.tail()"
   ]
  },
  {
   "cell_type": "code",
   "execution_count": 5,
   "metadata": {},
   "outputs": [
    {
     "data": {
      "text/plain": [
       "2007/Ago    3.049528e+05\n",
       "2007/Set    7.881453e+05\n",
       "2007/Out    2.440163e+06\n",
       "2007/Nov    5.517354e+06\n",
       "2007/Dez    1.233716e+07\n",
       "                ...     \n",
       "2020/Abr    4.000568e+07\n",
       "2020/Mai    4.676903e+07\n",
       "2020/Jun    4.536735e+07\n",
       "2020/Jul    4.071708e+07\n",
       "Total       5.993724e+09\n",
       "Length: 157, dtype: float64"
      ]
     },
     "execution_count": 5,
     "metadata": {},
     "output_type": "execute_result"
    }
   ],
   "source": [
    "datasus.mean()"
   ]
  },
  {
   "cell_type": "code",
   "execution_count": 6,
   "metadata": {},
   "outputs": [],
   "source": [
    "pd.options.display.float_format = \"{:.2f}\".format"
   ]
  },
  {
   "cell_type": "code",
   "execution_count": 7,
   "metadata": {},
   "outputs": [],
   "source": [
    "datasus['Unidade da Federação'] = datasus['Unidade da Federação'].str.replace('\\d+.','')"
   ]
  },
  {
   "cell_type": "code",
   "execution_count": 8,
   "metadata": {},
   "outputs": [],
   "source": [
    "datasus = datasus.set_index('Unidade da Federação')"
   ]
  },
  {
   "cell_type": "code",
   "execution_count": 9,
   "metadata": {},
   "outputs": [],
   "source": [
    "datasus_T = datasus.T"
   ]
  },
  {
   "cell_type": "code",
   "execution_count": 10,
   "metadata": {},
   "outputs": [],
   "source": [
    "datasus_T = datasus_T[:-1]"
   ]
  },
  {
   "cell_type": "code",
   "execution_count": 11,
   "metadata": {},
   "outputs": [],
   "source": [
    "datasus_T = datasus_T.iloc[138:]"
   ]
  },
  {
   "cell_type": "code",
   "execution_count": 12,
   "metadata": {},
   "outputs": [
    {
     "name": "stdout",
     "output_type": "stream",
     "text": [
      "<class 'pandas.core.frame.DataFrame'>\n",
      "Index: 140 entries, 2009/Jan to 2020/Ago\n",
      "Data columns (total 27 columns):\n",
      " #   Column               Non-Null Count  Dtype \n",
      "---  ------               --------------  ----- \n",
      " 0   Rondônia             140 non-null    object\n",
      " 1   Acre                 140 non-null    object\n",
      " 2   Amazonas             140 non-null    object\n",
      " 3   Roraima              140 non-null    object\n",
      " 4   Pará                 140 non-null    object\n",
      " 5   Amapá                140 non-null    object\n",
      " 6   Tocantins            140 non-null    object\n",
      " 7   Maranhão             140 non-null    object\n",
      " 8   Piauí                140 non-null    object\n",
      " 9   Ceará                140 non-null    object\n",
      " 10  Rio Grande do Norte  140 non-null    object\n",
      " 11  Paraíba              140 non-null    object\n",
      " 12  Pernambuco           140 non-null    object\n",
      " 13  Alagoas              140 non-null    object\n",
      " 14  Sergipe              140 non-null    object\n",
      " 15  Bahia                140 non-null    object\n",
      " 16  Minas Gerais         140 non-null    object\n",
      " 17  Espírito Santo       140 non-null    object\n",
      " 18  Rio de Janeiro       140 non-null    object\n",
      " 19  São Paulo            140 non-null    object\n",
      " 20  Paraná               140 non-null    object\n",
      " 21  Santa Catarina       140 non-null    object\n",
      " 22  Rio Grande do Sul    140 non-null    object\n",
      " 23  Mato Grosso do Sul   140 non-null    object\n",
      " 24  Mato Grosso          140 non-null    object\n",
      " 25  Goiás                140 non-null    object\n",
      " 26  Distrito Federal     140 non-null    object\n",
      "dtypes: object(27)\n",
      "memory usage: 30.6+ KB\n"
     ]
    }
   ],
   "source": [
    "datasus_T.info()"
   ]
  },
  {
   "cell_type": "code",
   "execution_count": 13,
   "metadata": {},
   "outputs": [],
   "source": [
    "datasus_T = datasus_T.apply(lambda x: x.replace('-','0'))"
   ]
  },
  {
   "cell_type": "code",
   "execution_count": 14,
   "metadata": {},
   "outputs": [],
   "source": [
    "datasus_T = datasus_T.apply(pd.to_numeric)"
   ]
  },
  {
   "cell_type": "code",
   "execution_count": 15,
   "metadata": {},
   "outputs": [],
   "source": [
    "datasus_mais_recente = datasus_T.iloc[-1]"
   ]
  },
  {
   "cell_type": "code",
   "execution_count": 16,
   "metadata": {},
   "outputs": [],
   "source": [
    "datasus_mais_recente_pct = datasus_mais_recente / datasus_mais_recente.sum()"
   ]
  },
  {
   "cell_type": "code",
   "execution_count": 17,
   "metadata": {},
   "outputs": [
    {
     "data": {
      "text/plain": [
       "<matplotlib.axes._subplots.AxesSubplot at 0x1b617988a00>"
      ]
     },
     "execution_count": 17,
     "metadata": {},
     "output_type": "execute_result"
    },
    {
     "data": {
      "image/png": "[encoded data removed]",
      "text/plain": [
       "<Figure size 432x288 with 1 Axes>"
      ]
     },
     "metadata": {
      "needs_background": "light"
     },
     "output_type": "display_data"
    }
   ],
   "source": [
    "datasus_mais_recente_pct.sort_values(ascending=False).plot(kind='bar')"
   ]
  },
  {
   "cell_type": "markdown",
   "metadata": {},
   "source": [
    "#### Get population data from IBGE - Wikipedia"
   ]
  },
  {
   "cell_type": "code",
   "execution_count": 18,
   "metadata": {},
   "outputs": [],
   "source": [
    "def get_data_from_ibge_join_cols(df):\n",
    "    \"\"\" This function gets the population from each state in Brazil from wikipedia 'Lista de unidades federativas do brasil'\n",
    "    Transform the data and join it with the dataframe passed on.\"\"\"\n",
    "    \n",
    "    ibge = pd.read_html('https://pt.wikipedia.org/wiki/Lista_de_unidades_federativas_do_Brasil_por_popula%C3%A7%C3%A3o')\n",
    "    ibge = pd.DataFrame(ibge[0])\n",
    "    ibge = ibge[['Unidade federativa','População']]\n",
    "    \n",
    "    #transformaçao nome Coluna e set do indice\n",
    "    ibge = ibge.rename(columns={'População':'populacao','Unidade federativa':'uf'})\n",
    "    ibge['uf'] = ibge['uf'].str.strip()\n",
    "    ibge.set_index('uf', inplace = True)\n",
    "    \n",
    "    #Transformando coluna populacao em int64\n",
    "    ibge['populacao'] = ibge['populacao'].apply(lambda x: x.replace(' ','')).apply(pd.to_numeric)\n",
    "\n",
    "    return ibge.join(df)\n",
    "    \n",
    "    \n",
    "    "
   ]
  },
  {
   "cell_type": "code",
   "execution_count": 19,
   "metadata": {},
   "outputs": [],
   "source": [
    "populacao_datos_mais_recentes = get_data_from_ibge_join_cols(datasus_mais_recente)"
   ]
  },
  {
   "cell_type": "code",
   "execution_count": 20,
   "metadata": {},
   "outputs": [
    {
     "data": {
      "text/html": [
       "<div>\n",
       "<style scoped>\n",
       "    .dataframe tbody tr th:only-of-type {\n",
       "        vertical-align: middle;\n",
       "    }\n",
       "\n",
       "    .dataframe tbody tr th {\n",
       "        vertical-align: top;\n",
       "    }\n",
       "\n",
       "    .dataframe thead th {\n",
       "        text-align: right;\n",
       "    }\n",
       "</style>\n",
       "<table border=\"1\" class=\"dataframe\">\n",
       "  <thead>\n",
       "    <tr style=\"text-align: right;\">\n",
       "      <th></th>\n",
       "      <th>populacao</th>\n",
       "      <th>2020/Ago</th>\n",
       "    </tr>\n",
       "    <tr>\n",
       "      <th>uf</th>\n",
       "      <th></th>\n",
       "      <th></th>\n",
       "    </tr>\n",
       "  </thead>\n",
       "  <tbody>\n",
       "    <tr>\n",
       "      <th>São Paulo</th>\n",
       "      <td>46289333</td>\n",
       "      <td>140414944.95</td>\n",
       "    </tr>\n",
       "    <tr>\n",
       "      <th>Minas Gerais</th>\n",
       "      <td>21331292</td>\n",
       "      <td>57473699.06</td>\n",
       "    </tr>\n",
       "    <tr>\n",
       "      <th>Rio de Janeiro</th>\n",
       "      <td>17366189</td>\n",
       "      <td>36264322.65</td>\n",
       "    </tr>\n",
       "    <tr>\n",
       "      <th>Bahia</th>\n",
       "      <td>14930634</td>\n",
       "      <td>26023558.53</td>\n",
       "    </tr>\n",
       "    <tr>\n",
       "      <th>Paraná</th>\n",
       "      <td>11516840</td>\n",
       "      <td>41542401.16</td>\n",
       "    </tr>\n",
       "  </tbody>\n",
       "</table>\n",
       "</div>"
      ],
      "text/plain": [
       "                populacao     2020/Ago\n",
       "uf                                    \n",
       "São Paulo        46289333 140414944.95\n",
       "Minas Gerais     21331292  57473699.06\n",
       "Rio de Janeiro   17366189  36264322.65\n",
       "Bahia            14930634  26023558.53\n",
       "Paraná           11516840  41542401.16"
      ]
     },
     "execution_count": 20,
     "metadata": {},
     "output_type": "execute_result"
    }
   ],
   "source": [
    "populacao_datos_mais_recentes.head()"
   ]
  }
 ],
 "metadata": {
  "kernelspec": {
   "display_name": "Python 3",
   "language": "python",
   "name": "python3"
  },
  "language_info": {
   "codemirror_mode": {
    "name": "ipython",
    "version": 3
   },
   "file_extension": ".py",
   "mimetype": "text/x-python",
   "name": "python",
   "nbconvert_exporter": "python",
   "pygments_lexer": "ipython3",
   "version": "3.8.3"
  }
 },
 "nbformat": 4,
 "nbformat_minor": 4
}
