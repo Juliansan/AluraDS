{
 "cells": [
  {
   "cell_type": "code",
   "execution_count": 1,
   "metadata": {},
   "outputs": [],
   "source": [
    "import pandas as pd\n",
    "import numpy as np\n",
    "from zipfile import ZipFile\n",
    "import seaborn as sns\n",
    "from matplotlib import pyplot as plt"
   ]
  },
  {
   "cell_type": "code",
   "execution_count": 2,
   "metadata": {},
   "outputs": [],
   "source": [
    "zip = ZipFile('../Dataset/PeNSE_2015_AMOSTRA2.zip')"
   ]
  },
  {
   "cell_type": "code",
   "execution_count": 3,
   "metadata": {},
   "outputs": [
    {
     "data": {
      "text/plain": [
       "'arquivos csv/PENSE_AMOSTRA2_ALUNO.CSV'"
      ]
     },
     "execution_count": 3,
     "metadata": {},
     "output_type": "execute_result"
    }
   ],
   "source": [
    "zip.namelist()[1]"
   ]
  },
  {
   "cell_type": "code",
   "execution_count": 4,
   "metadata": {},
   "outputs": [],
   "source": [
    "pense_2015 = pd.read_csv(zip.open(zip.namelist()[1]),sep=';', thousands='.', decimal=',')"
   ]
  },
  {
   "cell_type": "code",
   "execution_count": 5,
   "metadata": {},
   "outputs": [
    {
     "data": {
      "text/html": [
       "<div>\n",
       "<style scoped>\n",
       "    .dataframe tbody tr th:only-of-type {\n",
       "        vertical-align: middle;\n",
       "    }\n",
       "\n",
       "    .dataframe tbody tr th {\n",
       "        vertical-align: top;\n",
       "    }\n",
       "\n",
       "    .dataframe thead th {\n",
       "        text-align: right;\n",
       "    }\n",
       "</style>\n",
       "<table border=\"1\" class=\"dataframe\">\n",
       "  <thead>\n",
       "    <tr style=\"text-align: right;\">\n",
       "      <th></th>\n",
       "      <th>ANOPESQ</th>\n",
       "      <th>PAIS</th>\n",
       "      <th>REGEOGR</th>\n",
       "      <th>VB00004</th>\n",
       "      <th>VB01001</th>\n",
       "      <th>VB01002</th>\n",
       "      <th>VB01003</th>\n",
       "      <th>VB01004</th>\n",
       "      <th>VB01005</th>\n",
       "      <th>VB01006</th>\n",
       "      <th>...</th>\n",
       "      <th>ESTRATO_EXP</th>\n",
       "      <th>ESTRATOGEOREG</th>\n",
       "      <th>PESO</th>\n",
       "      <th>V0006</th>\n",
       "      <th>V0007</th>\n",
       "      <th>V0008</th>\n",
       "      <th>V0041</th>\n",
       "      <th>aluno</th>\n",
       "      <th>escola</th>\n",
       "      <th>turma</th>\n",
       "    </tr>\n",
       "  </thead>\n",
       "  <tbody>\n",
       "    <tr>\n",
       "      <th>0</th>\n",
       "      <td>2015</td>\n",
       "      <td>76</td>\n",
       "      <td>1</td>\n",
       "      <td>1</td>\n",
       "      <td>2</td>\n",
       "      <td>1</td>\n",
       "      <td>13</td>\n",
       "      <td>7</td>\n",
       "      <td>7</td>\n",
       "      <td>1</td>\n",
       "      <td>...</td>\n",
       "      <td>1223</td>\n",
       "      <td>1</td>\n",
       "      <td>299.735235</td>\n",
       "      <td>1</td>\n",
       "      <td>2</td>\n",
       "      <td>4</td>\n",
       "      <td>1</td>\n",
       "      <td>1</td>\n",
       "      <td>1</td>\n",
       "      <td>296</td>\n",
       "    </tr>\n",
       "    <tr>\n",
       "      <th>1</th>\n",
       "      <td>2015</td>\n",
       "      <td>76</td>\n",
       "      <td>1</td>\n",
       "      <td>1</td>\n",
       "      <td>2</td>\n",
       "      <td>1</td>\n",
       "      <td>14</td>\n",
       "      <td>4</td>\n",
       "      <td>7</td>\n",
       "      <td>1</td>\n",
       "      <td>...</td>\n",
       "      <td>1223</td>\n",
       "      <td>1</td>\n",
       "      <td>355.170081</td>\n",
       "      <td>1</td>\n",
       "      <td>2</td>\n",
       "      <td>4</td>\n",
       "      <td>1</td>\n",
       "      <td>2</td>\n",
       "      <td>1</td>\n",
       "      <td>296</td>\n",
       "    </tr>\n",
       "    <tr>\n",
       "      <th>2</th>\n",
       "      <td>2015</td>\n",
       "      <td>76</td>\n",
       "      <td>1</td>\n",
       "      <td>1</td>\n",
       "      <td>1</td>\n",
       "      <td>4</td>\n",
       "      <td>13</td>\n",
       "      <td>6</td>\n",
       "      <td>7</td>\n",
       "      <td>1</td>\n",
       "      <td>...</td>\n",
       "      <td>1223</td>\n",
       "      <td>1</td>\n",
       "      <td>299.735235</td>\n",
       "      <td>1</td>\n",
       "      <td>2</td>\n",
       "      <td>4</td>\n",
       "      <td>1</td>\n",
       "      <td>3</td>\n",
       "      <td>1</td>\n",
       "      <td>296</td>\n",
       "    </tr>\n",
       "    <tr>\n",
       "      <th>3</th>\n",
       "      <td>2015</td>\n",
       "      <td>76</td>\n",
       "      <td>1</td>\n",
       "      <td>1</td>\n",
       "      <td>1</td>\n",
       "      <td>1</td>\n",
       "      <td>14</td>\n",
       "      <td>6</td>\n",
       "      <td>7</td>\n",
       "      <td>1</td>\n",
       "      <td>...</td>\n",
       "      <td>1223</td>\n",
       "      <td>1</td>\n",
       "      <td>355.170081</td>\n",
       "      <td>1</td>\n",
       "      <td>2</td>\n",
       "      <td>4</td>\n",
       "      <td>1</td>\n",
       "      <td>4</td>\n",
       "      <td>1</td>\n",
       "      <td>296</td>\n",
       "    </tr>\n",
       "    <tr>\n",
       "      <th>4</th>\n",
       "      <td>2015</td>\n",
       "      <td>76</td>\n",
       "      <td>1</td>\n",
       "      <td>1</td>\n",
       "      <td>1</td>\n",
       "      <td>1</td>\n",
       "      <td>13</td>\n",
       "      <td>9</td>\n",
       "      <td>7</td>\n",
       "      <td>1</td>\n",
       "      <td>...</td>\n",
       "      <td>1223</td>\n",
       "      <td>1</td>\n",
       "      <td>299.735235</td>\n",
       "      <td>1</td>\n",
       "      <td>2</td>\n",
       "      <td>4</td>\n",
       "      <td>1</td>\n",
       "      <td>5</td>\n",
       "      <td>1</td>\n",
       "      <td>296</td>\n",
       "    </tr>\n",
       "  </tbody>\n",
       "</table>\n",
       "<p>5 rows × 181 columns</p>\n",
       "</div>"
      ],
      "text/plain": [
       "   ANOPESQ  PAIS  REGEOGR  VB00004  VB01001  VB01002  VB01003  VB01004  \\\n",
       "0     2015    76        1        1        2        1       13        7   \n",
       "1     2015    76        1        1        2        1       14        4   \n",
       "2     2015    76        1        1        1        4       13        6   \n",
       "3     2015    76        1        1        1        1       14        6   \n",
       "4     2015    76        1        1        1        1       13        9   \n",
       "\n",
       "   VB01005  VB01006  ...  ESTRATO_EXP  ESTRATOGEOREG        PESO  V0006  \\\n",
       "0        7        1  ...         1223              1  299.735235      1   \n",
       "1        7        1  ...         1223              1  355.170081      1   \n",
       "2        7        1  ...         1223              1  299.735235      1   \n",
       "3        7        1  ...         1223              1  355.170081      1   \n",
       "4        7        1  ...         1223              1  299.735235      1   \n",
       "\n",
       "   V0007  V0008  V0041  aluno  escola  turma  \n",
       "0      2      4      1      1       1    296  \n",
       "1      2      4      1      2       1    296  \n",
       "2      2      4      1      3       1    296  \n",
       "3      2      4      1      4       1    296  \n",
       "4      2      4      1      5       1    296  \n",
       "\n",
       "[5 rows x 181 columns]"
      ]
     },
     "execution_count": 5,
     "metadata": {},
     "output_type": "execute_result"
    }
   ],
   "source": [
    "pense_2015.head()"
   ]
  },
  {
   "cell_type": "markdown",
   "metadata": {},
   "source": [
    "## Desafio: Abrir os arquivos por comandos Linux"
   ]
  },
  {
   "cell_type": "code",
   "execution_count": 6,
   "metadata": {},
   "outputs": [],
   "source": [
    "#!unzip ../Dataset/PeNSE_2015_AMOSTRA2.zip "
   ]
  },
  {
   "cell_type": "code",
   "execution_count": 7,
   "metadata": {},
   "outputs": [],
   "source": [
    "# pense_2015_desafio = pd.read_csv(\"../Dataset/arquivos csv/PENSE_AMOSTRA2_ALUNO.CSV\",sep=';')"
   ]
  },
  {
   "cell_type": "code",
   "execution_count": 8,
   "metadata": {},
   "outputs": [],
   "source": [
    "# pense_2015_desafio.head()"
   ]
  },
  {
   "cell_type": "markdown",
   "metadata": {},
   "source": [
    "## Final Desafio: Abrir os arquivos por comandos Linux"
   ]
  },
  {
   "cell_type": "code",
   "execution_count": 9,
   "metadata": {},
   "outputs": [
    {
     "data": {
      "text/plain": [
       "(16556, 181)"
      ]
     },
     "execution_count": 9,
     "metadata": {},
     "output_type": "execute_result"
    }
   ],
   "source": [
    "pense_2015.shape"
   ]
  },
  {
   "cell_type": "code",
   "execution_count": 10,
   "metadata": {},
   "outputs": [
    {
     "name": "stdout",
     "output_type": "stream",
     "text": [
      "<class 'pandas.core.frame.DataFrame'>\n",
      "RangeIndex: 16556 entries, 0 to 16555\n",
      "Columns: 181 entries, ANOPESQ to turma\n",
      "dtypes: float64(10), int64(171)\n",
      "memory usage: 22.9 MB\n"
     ]
    }
   ],
   "source": [
    "pense_2015.info()"
   ]
  },
  {
   "cell_type": "code",
   "execution_count": 11,
   "metadata": {},
   "outputs": [
    {
     "data": {
      "text/html": [
       "<div>\n",
       "<style scoped>\n",
       "    .dataframe tbody tr th:only-of-type {\n",
       "        vertical-align: middle;\n",
       "    }\n",
       "\n",
       "    .dataframe tbody tr th {\n",
       "        vertical-align: top;\n",
       "    }\n",
       "\n",
       "    .dataframe thead th {\n",
       "        text-align: right;\n",
       "    }\n",
       "</style>\n",
       "<table border=\"1\" class=\"dataframe\">\n",
       "  <thead>\n",
       "    <tr style=\"text-align: right;\">\n",
       "      <th></th>\n",
       "      <th>TEMPODESLOC</th>\n",
       "      <th>TEMPOTOTAL</th>\n",
       "      <th>TEMPOEDFIS</th>\n",
       "      <th>TEMPOEXTRA</th>\n",
       "      <th>TEMPOEST</th>\n",
       "      <th>VB17001</th>\n",
       "      <th>VB17002</th>\n",
       "      <th>VB17003</th>\n",
       "      <th>VB17004</th>\n",
       "      <th>PESO</th>\n",
       "    </tr>\n",
       "  </thead>\n",
       "  <tbody>\n",
       "    <tr>\n",
       "      <th>0</th>\n",
       "      <td>0.0</td>\n",
       "      <td>15.0</td>\n",
       "      <td>0.0</td>\n",
       "      <td>15.0</td>\n",
       "      <td>60.0</td>\n",
       "      <td>371.0</td>\n",
       "      <td>1570.0</td>\n",
       "      <td>37.1</td>\n",
       "      <td>157.0</td>\n",
       "      <td>299.735235</td>\n",
       "    </tr>\n",
       "    <tr>\n",
       "      <th>1</th>\n",
       "      <td>120.0</td>\n",
       "      <td>510.0</td>\n",
       "      <td>260.0</td>\n",
       "      <td>130.0</td>\n",
       "      <td>300.0</td>\n",
       "      <td>502.0</td>\n",
       "      <td>1520.0</td>\n",
       "      <td>50.2</td>\n",
       "      <td>152.0</td>\n",
       "      <td>355.170081</td>\n",
       "    </tr>\n",
       "    <tr>\n",
       "      <th>2</th>\n",
       "      <td>0.0</td>\n",
       "      <td>585.0</td>\n",
       "      <td>130.0</td>\n",
       "      <td>455.0</td>\n",
       "      <td>420.0</td>\n",
       "      <td>482.0</td>\n",
       "      <td>1614.0</td>\n",
       "      <td>48.2</td>\n",
       "      <td>161.4</td>\n",
       "      <td>299.735235</td>\n",
       "    </tr>\n",
       "    <tr>\n",
       "      <th>3</th>\n",
       "      <td>0.0</td>\n",
       "      <td>0.0</td>\n",
       "      <td>0.0</td>\n",
       "      <td>0.0</td>\n",
       "      <td>0.0</td>\n",
       "      <td>694.0</td>\n",
       "      <td>1725.0</td>\n",
       "      <td>69.4</td>\n",
       "      <td>172.5</td>\n",
       "      <td>355.170081</td>\n",
       "    </tr>\n",
       "    <tr>\n",
       "      <th>4</th>\n",
       "      <td>30.0</td>\n",
       "      <td>165.0</td>\n",
       "      <td>90.0</td>\n",
       "      <td>45.0</td>\n",
       "      <td>60.0</td>\n",
       "      <td>789.0</td>\n",
       "      <td>1675.0</td>\n",
       "      <td>78.9</td>\n",
       "      <td>167.5</td>\n",
       "      <td>299.735235</td>\n",
       "    </tr>\n",
       "    <tr>\n",
       "      <th>...</th>\n",
       "      <td>...</td>\n",
       "      <td>...</td>\n",
       "      <td>...</td>\n",
       "      <td>...</td>\n",
       "      <td>...</td>\n",
       "      <td>...</td>\n",
       "      <td>...</td>\n",
       "      <td>...</td>\n",
       "      <td>...</td>\n",
       "      <td>...</td>\n",
       "    </tr>\n",
       "    <tr>\n",
       "      <th>16551</th>\n",
       "      <td>30.0</td>\n",
       "      <td>400.0</td>\n",
       "      <td>110.0</td>\n",
       "      <td>260.0</td>\n",
       "      <td>240.0</td>\n",
       "      <td>567.0</td>\n",
       "      <td>1679.0</td>\n",
       "      <td>56.7</td>\n",
       "      <td>167.9</td>\n",
       "      <td>447.815539</td>\n",
       "    </tr>\n",
       "    <tr>\n",
       "      <th>16552</th>\n",
       "      <td>20.0</td>\n",
       "      <td>800.0</td>\n",
       "      <td>325.0</td>\n",
       "      <td>455.0</td>\n",
       "      <td>240.0</td>\n",
       "      <td>619.0</td>\n",
       "      <td>1858.0</td>\n",
       "      <td>61.9</td>\n",
       "      <td>185.8</td>\n",
       "      <td>592.507440</td>\n",
       "    </tr>\n",
       "    <tr>\n",
       "      <th>16553</th>\n",
       "      <td>0.0</td>\n",
       "      <td>0.0</td>\n",
       "      <td>0.0</td>\n",
       "      <td>0.0</td>\n",
       "      <td>60.0</td>\n",
       "      <td>609.0</td>\n",
       "      <td>1594.0</td>\n",
       "      <td>60.9</td>\n",
       "      <td>159.4</td>\n",
       "      <td>401.131512</td>\n",
       "    </tr>\n",
       "    <tr>\n",
       "      <th>16554</th>\n",
       "      <td>75.0</td>\n",
       "      <td>215.0</td>\n",
       "      <td>35.0</td>\n",
       "      <td>105.0</td>\n",
       "      <td>120.0</td>\n",
       "      <td>473.0</td>\n",
       "      <td>1578.0</td>\n",
       "      <td>47.3</td>\n",
       "      <td>157.8</td>\n",
       "      <td>442.718091</td>\n",
       "    </tr>\n",
       "    <tr>\n",
       "      <th>16555</th>\n",
       "      <td>50.0</td>\n",
       "      <td>485.0</td>\n",
       "      <td>110.0</td>\n",
       "      <td>325.0</td>\n",
       "      <td>360.0</td>\n",
       "      <td>626.0</td>\n",
       "      <td>1639.0</td>\n",
       "      <td>62.6</td>\n",
       "      <td>163.9</td>\n",
       "      <td>592.507440</td>\n",
       "    </tr>\n",
       "  </tbody>\n",
       "</table>\n",
       "<p>16556 rows × 10 columns</p>\n",
       "</div>"
      ],
      "text/plain": [
       "       TEMPODESLOC  TEMPOTOTAL  TEMPOEDFIS  TEMPOEXTRA  TEMPOEST  VB17001  \\\n",
       "0              0.0        15.0         0.0        15.0      60.0    371.0   \n",
       "1            120.0       510.0       260.0       130.0     300.0    502.0   \n",
       "2              0.0       585.0       130.0       455.0     420.0    482.0   \n",
       "3              0.0         0.0         0.0         0.0       0.0    694.0   \n",
       "4             30.0       165.0        90.0        45.0      60.0    789.0   \n",
       "...            ...         ...         ...         ...       ...      ...   \n",
       "16551         30.0       400.0       110.0       260.0     240.0    567.0   \n",
       "16552         20.0       800.0       325.0       455.0     240.0    619.0   \n",
       "16553          0.0         0.0         0.0         0.0      60.0    609.0   \n",
       "16554         75.0       215.0        35.0       105.0     120.0    473.0   \n",
       "16555         50.0       485.0       110.0       325.0     360.0    626.0   \n",
       "\n",
       "       VB17002  VB17003  VB17004        PESO  \n",
       "0       1570.0     37.1    157.0  299.735235  \n",
       "1       1520.0     50.2    152.0  355.170081  \n",
       "2       1614.0     48.2    161.4  299.735235  \n",
       "3       1725.0     69.4    172.5  355.170081  \n",
       "4       1675.0     78.9    167.5  299.735235  \n",
       "...        ...      ...      ...         ...  \n",
       "16551   1679.0     56.7    167.9  447.815539  \n",
       "16552   1858.0     61.9    185.8  592.507440  \n",
       "16553   1594.0     60.9    159.4  401.131512  \n",
       "16554   1578.0     47.3    157.8  442.718091  \n",
       "16555   1639.0     62.6    163.9  592.507440  \n",
       "\n",
       "[16556 rows x 10 columns]"
      ]
     },
     "execution_count": 11,
     "metadata": {},
     "output_type": "execute_result"
    }
   ],
   "source": [
    "#selecionar os dados por tipo de dado\n",
    "pense_2015.select_dtypes(include='float64')"
   ]
  },
  {
   "cell_type": "markdown",
   "metadata": {},
   "source": [
    "## Desafio 03 - Classificar algumas perguntas como QualitativaXQuantitativa"
   ]
  },
  {
   "cell_type": "markdown",
   "metadata": {},
   "source": [
    "A maioria das colunas VB** são Qualitativas, menos: \n",
    "\n",
    "| VB17001 |  VB17002 |  VB17003 | VB17004 | TEMPODESLOC | TEMPOTOTAL | TEMPOEDFIS | TEMPOEXTRA | TEMPOEST | PESO\n",
    "|----------|:-------------:|------:|------:|------:|------:|------:|------:|------:|------:|\n",
    "| peso_aluno |  altura_aluno | peso_incluindo_imputados |altura_incluindo_imputados|tempo_deslocamento|tempo_total|tempo_exercicio_fisico_ultimos_7_dias|tempo_atividade_fisica_extra_escolar|tempo_total_atividade_fisica|Peso_aluno_amostra\n"
   ]
  },
  {
   "cell_type": "markdown",
   "metadata": {},
   "source": [
    "## Desafio 03 - Final"
   ]
  },
  {
   "cell_type": "code",
   "execution_count": 12,
   "metadata": {},
   "outputs": [
    {
     "data": {
      "text/plain": [
       "1    8287\n",
       "2    8269\n",
       "Name: VB01001, dtype: int64"
      ]
     },
     "execution_count": 12,
     "metadata": {},
     "output_type": "execute_result"
    }
   ],
   "source": [
    "pense_2015['VB01001'].value_counts()"
   ]
  },
  {
   "cell_type": "code",
   "execution_count": 13,
   "metadata": {},
   "outputs": [
    {
     "data": {
      "text/plain": [
       "1    50.054361\n",
       "2    49.945639\n",
       "Name: VB01001, dtype: float64"
      ]
     },
     "execution_count": 13,
     "metadata": {},
     "output_type": "execute_result"
    }
   ],
   "source": [
    "pense_2015['VB01001'].value_counts(normalize=True) * 100"
   ]
  },
  {
   "cell_type": "markdown",
   "metadata": {},
   "source": [
    "#### `Criando tabelas de Frequencia`"
   ]
  },
  {
   "cell_type": "code",
   "execution_count": 14,
   "metadata": {},
   "outputs": [],
   "source": [
    "frequencia =pense_2015['VB11007'].value_counts() # Frequencia"
   ]
  },
  {
   "cell_type": "code",
   "execution_count": 15,
   "metadata": {},
   "outputs": [],
   "source": [
    "percentual = pense_2015['VB11007'].value_counts(normalize=True) * 100 #percentual"
   ]
  },
  {
   "cell_type": "code",
   "execution_count": 16,
   "metadata": {},
   "outputs": [
    {
     "data": {
      "text/html": [
       "<div>\n",
       "<style scoped>\n",
       "    .dataframe tbody tr th:only-of-type {\n",
       "        vertical-align: middle;\n",
       "    }\n",
       "\n",
       "    .dataframe tbody tr th {\n",
       "        vertical-align: top;\n",
       "    }\n",
       "\n",
       "    .dataframe thead th {\n",
       "        text-align: right;\n",
       "    }\n",
       "</style>\n",
       "<table border=\"1\" class=\"dataframe\">\n",
       "  <thead>\n",
       "    <tr style=\"text-align: right;\">\n",
       "      <th>Sentimento em relaçao ao seu corpo</th>\n",
       "      <th>Frequencia</th>\n",
       "      <th>Percentual</th>\n",
       "    </tr>\n",
       "  </thead>\n",
       "  <tbody>\n",
       "    <tr>\n",
       "      <th>Satisfeito</th>\n",
       "      <td>6920</td>\n",
       "      <td>41.797536</td>\n",
       "    </tr>\n",
       "    <tr>\n",
       "      <th>Muito satisfeito</th>\n",
       "      <td>4608</td>\n",
       "      <td>27.832810</td>\n",
       "    </tr>\n",
       "    <tr>\n",
       "      <th>Insatisfeito</th>\n",
       "      <td>2326</td>\n",
       "      <td>14.049287</td>\n",
       "    </tr>\n",
       "    <tr>\n",
       "      <th>Indiferente</th>\n",
       "      <td>1807</td>\n",
       "      <td>10.914472</td>\n",
       "    </tr>\n",
       "    <tr>\n",
       "      <th>Muito insatisfeito</th>\n",
       "      <td>714</td>\n",
       "      <td>4.312636</td>\n",
       "    </tr>\n",
       "    <tr>\n",
       "      <th>Não informado</th>\n",
       "      <td>181</td>\n",
       "      <td>1.093259</td>\n",
       "    </tr>\n",
       "  </tbody>\n",
       "</table>\n",
       "</div>"
      ],
      "text/plain": [
       "Sentimento em relaçao ao seu corpo  Frequencia  Percentual\n",
       "Satisfeito                                6920   41.797536\n",
       "Muito satisfeito                          4608   27.832810\n",
       "Insatisfeito                              2326   14.049287\n",
       "Indiferente                               1807   10.914472\n",
       "Muito insatisfeito                         714    4.312636\n",
       "Não informado                              181    1.093259"
      ]
     },
     "execution_count": 16,
     "metadata": {},
     "output_type": "execute_result"
    }
   ],
   "source": [
    "respostas = {\n",
    "   1 : 'Muito satisfeito',\n",
    "   2 : 'Satisfeito',\n",
    "   3 : 'Indiferente',\n",
    "   4 : 'Insatisfeito',\n",
    "   5 : 'Muito insatisfeito',\n",
    "   99 : 'Não informado'\n",
    "}\n",
    "dist_freq = pd.DataFrame({'Frequencia': frequencia, 'Percentual': percentual}) # tabela de distribuiçao\n",
    "dist_freq.rename(index = respostas, inplace=True)\n",
    "dist_freq.rename_axis('Sentimento em relaçao ao seu corpo',axis=1, inplace=True)\n",
    "dist_freq"
   ]
  },
  {
   "cell_type": "markdown",
   "metadata": {},
   "source": [
    "#### `Final tabelas de Frequencia`"
   ]
  },
  {
   "cell_type": "markdown",
   "metadata": {},
   "source": [
    "# Desafio 04: Criar uma funçao para gerar as tabelas de frequencia, e fazer a analise de outras informaçoes"
   ]
  },
  {
   "cell_type": "code",
   "execution_count": 17,
   "metadata": {},
   "outputs": [],
   "source": [
    "def tabela_frequencia(df,coluna,titulo='respostas',resposta=None):\n",
    "    dist_freq = pd.DataFrame({'Frequencia': df[coluna].value_counts(), \n",
    "                              'Percentual': df[coluna].value_counts(normalize=True)*100}) \n",
    "    if resposta:\n",
    "        dist_freq.rename(index = resposta, inplace=True)\n",
    "    dist_freq.rename_axis(titulo,axis=1, inplace=True)\n",
    "    return dist_freq"
   ]
  },
  {
   "cell_type": "code",
   "execution_count": 18,
   "metadata": {},
   "outputs": [
    {
     "data": {
      "text/html": [
       "<div>\n",
       "<style scoped>\n",
       "    .dataframe tbody tr th:only-of-type {\n",
       "        vertical-align: middle;\n",
       "    }\n",
       "\n",
       "    .dataframe tbody tr th {\n",
       "        vertical-align: top;\n",
       "    }\n",
       "\n",
       "    .dataframe thead th {\n",
       "        text-align: right;\n",
       "    }\n",
       "</style>\n",
       "<table border=\"1\" class=\"dataframe\">\n",
       "  <thead>\n",
       "    <tr style=\"text-align: right;\">\n",
       "      <th>Horas por dia assiste TV</th>\n",
       "      <th>Frequencia</th>\n",
       "      <th>Percentual</th>\n",
       "    </tr>\n",
       "  </thead>\n",
       "  <tbody>\n",
       "    <tr>\n",
       "      <th>Até 1 hora por dia</th>\n",
       "      <td>3871</td>\n",
       "      <td>23.381252</td>\n",
       "    </tr>\n",
       "    <tr>\n",
       "      <th>Mais de 1 hora até 2 horas por dia</th>\n",
       "      <td>2235</td>\n",
       "      <td>13.499638</td>\n",
       "    </tr>\n",
       "    <tr>\n",
       "      <th>Mais de 2 horas até 3 horas por dia</th>\n",
       "      <td>2176</td>\n",
       "      <td>13.143271</td>\n",
       "    </tr>\n",
       "    <tr>\n",
       "      <th>Mais de 3 horas até 4 horas por dia</th>\n",
       "      <td>1936</td>\n",
       "      <td>11.693646</td>\n",
       "    </tr>\n",
       "    <tr>\n",
       "      <th>Mais de 8 horas por dia</th>\n",
       "      <td>1858</td>\n",
       "      <td>11.222518</td>\n",
       "    </tr>\n",
       "    <tr>\n",
       "      <th>Mais de 4 horas até 5 horas por dia</th>\n",
       "      <td>1536</td>\n",
       "      <td>9.277603</td>\n",
       "    </tr>\n",
       "    <tr>\n",
       "      <th>Mais de 5 horas até 6 horas por dia</th>\n",
       "      <td>1241</td>\n",
       "      <td>7.495772</td>\n",
       "    </tr>\n",
       "    <tr>\n",
       "      <th>Mais de 6 horas até 7 horas por dia</th>\n",
       "      <td>932</td>\n",
       "      <td>5.629379</td>\n",
       "    </tr>\n",
       "    <tr>\n",
       "      <th>Mais de 7 horas até 8 horas por dia</th>\n",
       "      <td>687</td>\n",
       "      <td>4.149553</td>\n",
       "    </tr>\n",
       "    <tr>\n",
       "      <th>Não informado</th>\n",
       "      <td>84</td>\n",
       "      <td>0.507369</td>\n",
       "    </tr>\n",
       "  </tbody>\n",
       "</table>\n",
       "</div>"
      ],
      "text/plain": [
       "Horas por dia assiste TV             Frequencia  Percentual\n",
       "Até 1 hora por dia                         3871   23.381252\n",
       "Mais de 1 hora até 2 horas por dia         2235   13.499638\n",
       "Mais de 2 horas até 3 horas por dia        2176   13.143271\n",
       "Mais de 3 horas até 4 horas por dia        1936   11.693646\n",
       "Mais de 8 horas por dia                    1858   11.222518\n",
       "Mais de 4 horas até 5 horas por dia        1536    9.277603\n",
       "Mais de 5 horas até 6 horas por dia        1241    7.495772\n",
       "Mais de 6 horas até 7 horas por dia         932    5.629379\n",
       "Mais de 7 horas até 8 horas por dia         687    4.149553\n",
       "Não informado                                84    0.507369"
      ]
     },
     "execution_count": 18,
     "metadata": {},
     "output_type": "execute_result"
    }
   ],
   "source": [
    "resposta_tv = {\n",
    "    1:'Até 1 hora por dia',\n",
    "    2:'Mais de 1 hora até 2 horas por dia',\n",
    "    3:'Mais de 2 horas até 3 horas por dia',\n",
    "    4:'Mais de 3 horas até 4 horas por dia',\n",
    "    5:'Mais de 4 horas até 5 horas por dia',\n",
    "    6:'Mais de 5 horas até 6 horas por dia',\n",
    "    7:'Mais de 6 horas até 7 horas por dia',\n",
    "    8:'Mais de 7 horas até 8 horas por dia',\n",
    "    9:'Mais de 8 horas por dia',\n",
    "    99:'Não informado',\n",
    "}\n",
    "tempo_assistindo_tv = tabela_frequencia(pense_2015,'VB03010A','Horas por dia assiste TV',resposta_tv)\n",
    "tempo_assistindo_tv"
   ]
  },
  {
   "cell_type": "code",
   "execution_count": 19,
   "metadata": {},
   "outputs": [
    {
     "data": {
      "text/html": [
       "<div>\n",
       "<style scoped>\n",
       "    .dataframe tbody tr th:only-of-type {\n",
       "        vertical-align: middle;\n",
       "    }\n",
       "\n",
       "    .dataframe tbody tr th {\n",
       "        vertical-align: top;\n",
       "    }\n",
       "\n",
       "    .dataframe thead th {\n",
       "        text-align: right;\n",
       "    }\n",
       "</style>\n",
       "<table border=\"1\" class=\"dataframe\">\n",
       "  <thead>\n",
       "    <tr style=\"text-align: right;\">\n",
       "      <th>comeu legumes nos últimos 30 dias</th>\n",
       "      <th>Frequencia</th>\n",
       "      <th>Percentual</th>\n",
       "    </tr>\n",
       "  </thead>\n",
       "  <tbody>\n",
       "    <tr>\n",
       "      <th>Menos de uma vez por dia (não comi todos os dias)</th>\n",
       "      <td>3756</td>\n",
       "      <td>22.686639</td>\n",
       "    </tr>\n",
       "    <tr>\n",
       "      <th>1 vez por dia</th>\n",
       "      <td>3710</td>\n",
       "      <td>22.408794</td>\n",
       "    </tr>\n",
       "    <tr>\n",
       "      <th>2 vezes por dia</th>\n",
       "      <td>3093</td>\n",
       "      <td>18.682049</td>\n",
       "    </tr>\n",
       "    <tr>\n",
       "      <th>Não comi legumes ou verduras nos últimos 30 dias</th>\n",
       "      <td>2145</td>\n",
       "      <td>12.956028</td>\n",
       "    </tr>\n",
       "    <tr>\n",
       "      <th>5 ou mais vezes por dia</th>\n",
       "      <td>1890</td>\n",
       "      <td>11.415801</td>\n",
       "    </tr>\n",
       "    <tr>\n",
       "      <th>3 vezes por dia</th>\n",
       "      <td>1265</td>\n",
       "      <td>7.640734</td>\n",
       "    </tr>\n",
       "    <tr>\n",
       "      <th>4 vezes por dia</th>\n",
       "      <td>638</td>\n",
       "      <td>3.853588</td>\n",
       "    </tr>\n",
       "    <tr>\n",
       "      <th>Não informado</th>\n",
       "      <td>59</td>\n",
       "      <td>0.356366</td>\n",
       "    </tr>\n",
       "  </tbody>\n",
       "</table>\n",
       "</div>"
      ],
      "text/plain": [
       "comeu legumes nos últimos 30 dias                  Frequencia  Percentual\n",
       "Menos de uma vez por dia (não comi todos os dias)        3756   22.686639\n",
       "1 vez por dia                                            3710   22.408794\n",
       "2 vezes por dia                                          3093   18.682049\n",
       "Não comi legumes ou verduras nos últimos 30 dias         2145   12.956028\n",
       "5 ou mais vezes por dia                                  1890   11.415801\n",
       "3 vezes por dia                                          1265    7.640734\n",
       "4 vezes por dia                                           638    3.853588\n",
       "Não informado                                              59    0.356366"
      ]
     },
     "execution_count": 19,
     "metadata": {},
     "output_type": "execute_result"
    }
   ],
   "source": [
    "resposta_legumes = {\n",
    "    1:'Não comi legumes ou verduras nos últimos 30 dias',\n",
    "    2:'Menos de uma vez por dia (não comi todos os dias)',\n",
    "    3:'1 vez por dia',\n",
    "    4:'2 vezes por dia',\n",
    "    5:'3 vezes por dia',\n",
    "    6:'4 vezes por dia',\n",
    "    7:'5 ou mais vezes por dia',\n",
    "    99:'Não informado'\n",
    "}\n",
    "legumes_ultimos_30_dias = tabela_frequencia(pense_2015,'VB02026','comeu legumes nos últimos 30 dias',resposta_legumes)\n",
    "legumes_ultimos_30_dias"
   ]
  },
  {
   "cell_type": "code",
   "execution_count": 20,
   "metadata": {},
   "outputs": [
    {
     "data": {
      "text/html": [
       "<div>\n",
       "<style scoped>\n",
       "    .dataframe tbody tr th:only-of-type {\n",
       "        vertical-align: middle;\n",
       "    }\n",
       "\n",
       "    .dataframe tbody tr th {\n",
       "        vertical-align: top;\n",
       "    }\n",
       "\n",
       "    .dataframe thead th {\n",
       "        text-align: right;\n",
       "    }\n",
       "</style>\n",
       "<table border=\"1\" class=\"dataframe\">\n",
       "  <thead>\n",
       "    <tr style=\"text-align: right;\">\n",
       "      <th>comeu fastfood últimos 7 dias</th>\n",
       "      <th>Frequencia</th>\n",
       "      <th>Percentual</th>\n",
       "    </tr>\n",
       "  </thead>\n",
       "  <tbody>\n",
       "    <tr>\n",
       "      <th>Não comi em restaurantes fast food nos últimos 7 dias (0 dia)</th>\n",
       "      <td>8715</td>\n",
       "      <td>52.639526</td>\n",
       "    </tr>\n",
       "    <tr>\n",
       "      <th>1 dia nos últimos 7 dias</th>\n",
       "      <td>3408</td>\n",
       "      <td>20.584682</td>\n",
       "    </tr>\n",
       "    <tr>\n",
       "      <th>2 dias nos últimos 7 dias</th>\n",
       "      <td>1848</td>\n",
       "      <td>11.162116</td>\n",
       "    </tr>\n",
       "    <tr>\n",
       "      <th>3 dias nos últimos 7 dias</th>\n",
       "      <td>1026</td>\n",
       "      <td>6.197149</td>\n",
       "    </tr>\n",
       "    <tr>\n",
       "      <th>4 dias nos últimos 7 dias</th>\n",
       "      <td>547</td>\n",
       "      <td>3.303938</td>\n",
       "    </tr>\n",
       "    <tr>\n",
       "      <th>Todos os dias nos últimos 7 dias</th>\n",
       "      <td>391</td>\n",
       "      <td>2.361682</td>\n",
       "    </tr>\n",
       "    <tr>\n",
       "      <th>5 dias nos últimos 7 dias</th>\n",
       "      <td>349</td>\n",
       "      <td>2.107997</td>\n",
       "    </tr>\n",
       "    <tr>\n",
       "      <th>6 dias nos últimos 7 dias</th>\n",
       "      <td>235</td>\n",
       "      <td>1.419425</td>\n",
       "    </tr>\n",
       "    <tr>\n",
       "      <th>Não informado</th>\n",
       "      <td>37</td>\n",
       "      <td>0.223484</td>\n",
       "    </tr>\n",
       "  </tbody>\n",
       "</table>\n",
       "</div>"
      ],
      "text/plain": [
       "comeu fastfood últimos 7 dias                       Frequencia  Percentual\n",
       "Não comi em restaurantes fast food nos últimos ...        8715   52.639526\n",
       "1 dia nos últimos 7 dias                                  3408   20.584682\n",
       "2 dias nos últimos 7 dias                                 1848   11.162116\n",
       "3 dias nos últimos 7 dias                                 1026    6.197149\n",
       "4 dias nos últimos 7 dias                                  547    3.303938\n",
       "Todos os dias nos últimos 7 dias                           391    2.361682\n",
       "5 dias nos últimos 7 dias                                  349    2.107997\n",
       "6 dias nos últimos 7 dias                                  235    1.419425\n",
       "Não informado                                               37    0.223484"
      ]
     },
     "execution_count": 20,
     "metadata": {},
     "output_type": "execute_result"
    }
   ],
   "source": [
    "resposta_fastfood = {\n",
    "    1:'Não comi em restaurantes fast food nos últimos 7 dias (0 dia)',\n",
    "    2:'1 dia nos últimos 7 dias',\n",
    "    3:'2 dias nos últimos 7 dias',\n",
    "    4:'3 dias nos últimos 7 dias',\n",
    "    5:'4 dias nos últimos 7 dias',\n",
    "    6:'5 dias nos últimos 7 dias',\n",
    "    7:'6 dias nos últimos 7 dias',\n",
    "    8:'Todos os dias nos últimos 7 dias',\n",
    "    99:'Não informado' \n",
    "}\n",
    "fast_food_ultimos_7_dias = tabela_frequencia(pense_2015,'VB02023','comeu fastfood últimos 7 dias',resposta_fastfood)\n",
    "fast_food_ultimos_7_dias"
   ]
  },
  {
   "cell_type": "markdown",
   "metadata": {},
   "source": [
    "# Desafio 04: FIM funçao para gerar as tabelas de frequencia, e fazer a analise de outras informaçoes"
   ]
  },
  {
   "cell_type": "markdown",
   "metadata": {},
   "source": [
    "##### Calcular o IMC"
   ]
  },
  {
   "cell_type": "code",
   "execution_count": 21,
   "metadata": {},
   "outputs": [
    {
     "data": {
      "text/plain": [
       "0        15.051321\n",
       "1        21.727839\n",
       "2        18.502907\n",
       "3        23.322831\n",
       "4        28.122076\n",
       "           ...    \n",
       "16551    20.113223\n",
       "16552    17.930782\n",
       "16553    23.968489\n",
       "16554    18.995343\n",
       "16555    23.303246\n",
       "Name: IMC, Length: 16556, dtype: float64"
      ]
     },
     "execution_count": 21,
     "metadata": {},
     "output_type": "execute_result"
    }
   ],
   "source": [
    "pense_2015['IMC'] = pense_2015['VB17003'] / ((pense_2015['VB17004']/100)**2)\n",
    "pense_2015['IMC']"
   ]
  },
  {
   "cell_type": "code",
   "execution_count": 22,
   "metadata": {},
   "outputs": [],
   "source": [
    "classes = [0, 18.5, 25, 30, 60]\n",
    "label = ['abaixo', 'normal','sobrepeso','obesidad']\n",
    "\n",
    "#Use cut quando precisar segmentar e classificar os valores dos dados em compartimentos.\n",
    "#Esta função também é útil para passar de uma variável contínua a uma variável categórica.\n",
    "pense_2015['CLASSE_IMC'] = pd.cut(x = pense_2015['IMC'],\n",
    "        bins= classes,\n",
    "          labels = label,\n",
    "      include_lowest=True)"
   ]
  },
  {
   "cell_type": "code",
   "execution_count": 23,
   "metadata": {},
   "outputs": [
    {
     "data": {
      "text/html": [
       "<div>\n",
       "<style scoped>\n",
       "    .dataframe tbody tr th:only-of-type {\n",
       "        vertical-align: middle;\n",
       "    }\n",
       "\n",
       "    .dataframe tbody tr th {\n",
       "        vertical-align: top;\n",
       "    }\n",
       "\n",
       "    .dataframe thead th {\n",
       "        text-align: right;\n",
       "    }\n",
       "</style>\n",
       "<table border=\"1\" class=\"dataframe\">\n",
       "  <thead>\n",
       "    <tr style=\"text-align: right;\">\n",
       "      <th></th>\n",
       "      <th>IMC</th>\n",
       "      <th>CLASSE_IMC</th>\n",
       "    </tr>\n",
       "  </thead>\n",
       "  <tbody>\n",
       "    <tr>\n",
       "      <th>0</th>\n",
       "      <td>15.051321</td>\n",
       "      <td>abaixo</td>\n",
       "    </tr>\n",
       "    <tr>\n",
       "      <th>1</th>\n",
       "      <td>21.727839</td>\n",
       "      <td>normal</td>\n",
       "    </tr>\n",
       "    <tr>\n",
       "      <th>2</th>\n",
       "      <td>18.502907</td>\n",
       "      <td>normal</td>\n",
       "    </tr>\n",
       "    <tr>\n",
       "      <th>3</th>\n",
       "      <td>23.322831</td>\n",
       "      <td>normal</td>\n",
       "    </tr>\n",
       "    <tr>\n",
       "      <th>4</th>\n",
       "      <td>28.122076</td>\n",
       "      <td>sobrepeso</td>\n",
       "    </tr>\n",
       "    <tr>\n",
       "      <th>...</th>\n",
       "      <td>...</td>\n",
       "      <td>...</td>\n",
       "    </tr>\n",
       "    <tr>\n",
       "      <th>16551</th>\n",
       "      <td>20.113223</td>\n",
       "      <td>normal</td>\n",
       "    </tr>\n",
       "    <tr>\n",
       "      <th>16552</th>\n",
       "      <td>17.930782</td>\n",
       "      <td>abaixo</td>\n",
       "    </tr>\n",
       "    <tr>\n",
       "      <th>16553</th>\n",
       "      <td>23.968489</td>\n",
       "      <td>normal</td>\n",
       "    </tr>\n",
       "    <tr>\n",
       "      <th>16554</th>\n",
       "      <td>18.995343</td>\n",
       "      <td>normal</td>\n",
       "    </tr>\n",
       "    <tr>\n",
       "      <th>16555</th>\n",
       "      <td>23.303246</td>\n",
       "      <td>normal</td>\n",
       "    </tr>\n",
       "  </tbody>\n",
       "</table>\n",
       "<p>16556 rows × 2 columns</p>\n",
       "</div>"
      ],
      "text/plain": [
       "             IMC CLASSE_IMC\n",
       "0      15.051321     abaixo\n",
       "1      21.727839     normal\n",
       "2      18.502907     normal\n",
       "3      23.322831     normal\n",
       "4      28.122076  sobrepeso\n",
       "...          ...        ...\n",
       "16551  20.113223     normal\n",
       "16552  17.930782     abaixo\n",
       "16553  23.968489     normal\n",
       "16554  18.995343     normal\n",
       "16555  23.303246     normal\n",
       "\n",
       "[16556 rows x 2 columns]"
      ]
     },
     "execution_count": 23,
     "metadata": {},
     "output_type": "execute_result"
    }
   ],
   "source": [
    "pense_2015[['IMC','CLASSE_IMC']]"
   ]
  },
  {
   "cell_type": "code",
   "execution_count": 24,
   "metadata": {},
   "outputs": [
    {
     "data": {
      "text/html": [
       "<div>\n",
       "<style scoped>\n",
       "    .dataframe tbody tr th:only-of-type {\n",
       "        vertical-align: middle;\n",
       "    }\n",
       "\n",
       "    .dataframe tbody tr th {\n",
       "        vertical-align: top;\n",
       "    }\n",
       "\n",
       "    .dataframe thead th {\n",
       "        text-align: right;\n",
       "    }\n",
       "</style>\n",
       "<table border=\"1\" class=\"dataframe\">\n",
       "  <thead>\n",
       "    <tr style=\"text-align: right;\">\n",
       "      <th>Classe IMC</th>\n",
       "      <th>Frequencia</th>\n",
       "      <th>Percentual</th>\n",
       "    </tr>\n",
       "  </thead>\n",
       "  <tbody>\n",
       "    <tr>\n",
       "      <th>normal</th>\n",
       "      <td>9188</td>\n",
       "      <td>55.496497</td>\n",
       "    </tr>\n",
       "    <tr>\n",
       "      <th>abaixo</th>\n",
       "      <td>4975</td>\n",
       "      <td>30.049529</td>\n",
       "    </tr>\n",
       "    <tr>\n",
       "      <th>sobrepeso</th>\n",
       "      <td>1760</td>\n",
       "      <td>10.630587</td>\n",
       "    </tr>\n",
       "    <tr>\n",
       "      <th>obesidad</th>\n",
       "      <td>633</td>\n",
       "      <td>3.823387</td>\n",
       "    </tr>\n",
       "  </tbody>\n",
       "</table>\n",
       "</div>"
      ],
      "text/plain": [
       "Classe IMC  Frequencia  Percentual\n",
       "normal            9188   55.496497\n",
       "abaixo            4975   30.049529\n",
       "sobrepeso         1760   10.630587\n",
       "obesidad           633    3.823387"
      ]
     },
     "execution_count": 24,
     "metadata": {},
     "output_type": "execute_result"
    }
   ],
   "source": [
    "dist_freq_imc = tabela_frequencia(pense_2015,'CLASSE_IMC','Classe IMC')\n",
    "dist_freq_imc"
   ]
  },
  {
   "cell_type": "markdown",
   "metadata": {},
   "source": [
    "##### clasificar a altura"
   ]
  },
  {
   "cell_type": "code",
   "execution_count": 25,
   "metadata": {},
   "outputs": [
    {
     "data": {
      "text/plain": [
       "124.1"
      ]
     },
     "execution_count": 25,
     "metadata": {},
     "output_type": "execute_result"
    }
   ],
   "source": [
    "pense_2015['VB17004'].min()"
   ]
  },
  {
   "cell_type": "code",
   "execution_count": 26,
   "metadata": {},
   "outputs": [
    {
     "data": {
      "text/plain": [
       "195.3"
      ]
     },
     "execution_count": 26,
     "metadata": {},
     "output_type": "execute_result"
    }
   ],
   "source": [
    "pense_2015['VB17004'].max()"
   ]
  },
  {
   "cell_type": "markdown",
   "metadata": {},
   "source": [
    "#### Determinar o tamanho da amostra\n",
    "\n",
    "O Regra de Sturges é um critério usado para determinar o número de classes ou intervalos que são necessários para representar graficamente um conjunto de dados estatísticos.\n",
    "Sturges propôs um método simples, baseado no número de amostras x que permitiria encontrar o número de classes e sua amplitude de amplitude. A regra de Sturges é amplamente usada especialmente na área de estatística, especificamente para construir histogramas de frequência.\n",
    "\n",
    "`exemplo do calculo`\n",
    "\n",
    "**tamanho_amostra = len(amostra)\n",
    "k = 1 + ((10/3)*np.log10(tamanho_amostra))**\n",
    "\n"
   ]
  },
  {
   "cell_type": "code",
   "execution_count": 27,
   "metadata": {},
   "outputs": [
    {
     "data": {
      "text/plain": [
       "15"
      ]
     },
     "execution_count": 27,
     "metadata": {},
     "output_type": "execute_result"
    }
   ],
   "source": [
    "tamanho_amostra = len(pense_2015)\n",
    "k = int(1 + ((10/3)*np.log10(tamanho_amostra)))\n",
    "k"
   ]
  },
  {
   "cell_type": "code",
   "execution_count": 28,
   "metadata": {},
   "outputs": [],
   "source": [
    "pense_2015['CLASSE_ALTURA'] = pd.cut(x = pense_2015['VB17004'],\n",
    "        bins= k,\n",
    "      include_lowest=True)\n"
   ]
  },
  {
   "cell_type": "code",
   "execution_count": 29,
   "metadata": {},
   "outputs": [
    {
     "data": {
      "text/html": [
       "<div>\n",
       "<style scoped>\n",
       "    .dataframe tbody tr th:only-of-type {\n",
       "        vertical-align: middle;\n",
       "    }\n",
       "\n",
       "    .dataframe tbody tr th {\n",
       "        vertical-align: top;\n",
       "    }\n",
       "\n",
       "    .dataframe thead th {\n",
       "        text-align: right;\n",
       "    }\n",
       "</style>\n",
       "<table border=\"1\" class=\"dataframe\">\n",
       "  <thead>\n",
       "    <tr style=\"text-align: right;\">\n",
       "      <th>CLASSE_ALTURA</th>\n",
       "      <th>Frequencia</th>\n",
       "      <th>Percentual</th>\n",
       "    </tr>\n",
       "  </thead>\n",
       "  <tbody>\n",
       "    <tr>\n",
       "      <th>(157.327, 162.073]</th>\n",
       "      <td>3110</td>\n",
       "      <td>18.784731</td>\n",
       "    </tr>\n",
       "    <tr>\n",
       "      <th>(152.58, 157.327]</th>\n",
       "      <td>2734</td>\n",
       "      <td>16.513651</td>\n",
       "    </tr>\n",
       "    <tr>\n",
       "      <th>(162.073, 166.82]</th>\n",
       "      <td>2550</td>\n",
       "      <td>15.402271</td>\n",
       "    </tr>\n",
       "    <tr>\n",
       "      <th>(166.82, 171.567]</th>\n",
       "      <td>2063</td>\n",
       "      <td>12.460739</td>\n",
       "    </tr>\n",
       "    <tr>\n",
       "      <th>(147.833, 152.58]</th>\n",
       "      <td>1782</td>\n",
       "      <td>10.763469</td>\n",
       "    </tr>\n",
       "    <tr>\n",
       "      <th>(171.567, 176.313]</th>\n",
       "      <td>1416</td>\n",
       "      <td>8.552791</td>\n",
       "    </tr>\n",
       "    <tr>\n",
       "      <th>(143.087, 147.833]</th>\n",
       "      <td>1012</td>\n",
       "      <td>6.112588</td>\n",
       "    </tr>\n",
       "    <tr>\n",
       "      <th>(176.313, 181.06]</th>\n",
       "      <td>749</td>\n",
       "      <td>4.524040</td>\n",
       "    </tr>\n",
       "    <tr>\n",
       "      <th>(138.34, 143.087]</th>\n",
       "      <td>484</td>\n",
       "      <td>2.923411</td>\n",
       "    </tr>\n",
       "    <tr>\n",
       "      <th>(181.06, 185.807]</th>\n",
       "      <td>300</td>\n",
       "      <td>1.812032</td>\n",
       "    </tr>\n",
       "    <tr>\n",
       "      <th>(133.593, 138.34]</th>\n",
       "      <td>199</td>\n",
       "      <td>1.201981</td>\n",
       "    </tr>\n",
       "    <tr>\n",
       "      <th>(185.807, 190.553]</th>\n",
       "      <td>94</td>\n",
       "      <td>0.567770</td>\n",
       "    </tr>\n",
       "    <tr>\n",
       "      <th>(128.847, 133.593]</th>\n",
       "      <td>47</td>\n",
       "      <td>0.283885</td>\n",
       "    </tr>\n",
       "    <tr>\n",
       "      <th>(190.553, 195.3]</th>\n",
       "      <td>13</td>\n",
       "      <td>0.078521</td>\n",
       "    </tr>\n",
       "    <tr>\n",
       "      <th>(124.02799999999999, 128.847]</th>\n",
       "      <td>3</td>\n",
       "      <td>0.018120</td>\n",
       "    </tr>\n",
       "  </tbody>\n",
       "</table>\n",
       "</div>"
      ],
      "text/plain": [
       "CLASSE_ALTURA                  Frequencia  Percentual\n",
       "(157.327, 162.073]                   3110   18.784731\n",
       "(152.58, 157.327]                    2734   16.513651\n",
       "(162.073, 166.82]                    2550   15.402271\n",
       "(166.82, 171.567]                    2063   12.460739\n",
       "(147.833, 152.58]                    1782   10.763469\n",
       "(171.567, 176.313]                   1416    8.552791\n",
       "(143.087, 147.833]                   1012    6.112588\n",
       "(176.313, 181.06]                     749    4.524040\n",
       "(138.34, 143.087]                     484    2.923411\n",
       "(181.06, 185.807]                     300    1.812032\n",
       "(133.593, 138.34]                     199    1.201981\n",
       "(185.807, 190.553]                     94    0.567770\n",
       "(128.847, 133.593]                     47    0.283885\n",
       "(190.553, 195.3]                       13    0.078521\n",
       "(124.02799999999999, 128.847]           3    0.018120"
      ]
     },
     "execution_count": 29,
     "metadata": {},
     "output_type": "execute_result"
    }
   ],
   "source": [
    "tabela_frequencia(pense_2015,'CLASSE_ALTURA','CLASSE_ALTURA')"
   ]
  },
  {
   "cell_type": "markdown",
   "metadata": {},
   "source": [
    "#### Desafio 05: Criar uma tabela de Frequencia com o PESO"
   ]
  },
  {
   "cell_type": "code",
   "execution_count": 30,
   "metadata": {},
   "outputs": [
    {
     "data": {
      "text/html": [
       "<div>\n",
       "<style scoped>\n",
       "    .dataframe tbody tr th:only-of-type {\n",
       "        vertical-align: middle;\n",
       "    }\n",
       "\n",
       "    .dataframe tbody tr th {\n",
       "        vertical-align: top;\n",
       "    }\n",
       "\n",
       "    .dataframe thead th {\n",
       "        text-align: right;\n",
       "    }\n",
       "</style>\n",
       "<table border=\"1\" class=\"dataframe\">\n",
       "  <thead>\n",
       "    <tr style=\"text-align: right;\">\n",
       "      <th>CLASSE_PESO</th>\n",
       "      <th>Frequencia</th>\n",
       "      <th>Percentual</th>\n",
       "    </tr>\n",
       "  </thead>\n",
       "  <tbody>\n",
       "    <tr>\n",
       "      <th>(46.32, 57.7]</th>\n",
       "      <td>5754</td>\n",
       "      <td>34.754772</td>\n",
       "    </tr>\n",
       "    <tr>\n",
       "      <th>(34.94, 46.32]</th>\n",
       "      <td>3852</td>\n",
       "      <td>23.266489</td>\n",
       "    </tr>\n",
       "    <tr>\n",
       "      <th>(57.7, 69.08]</th>\n",
       "      <td>3724</td>\n",
       "      <td>22.493356</td>\n",
       "    </tr>\n",
       "    <tr>\n",
       "      <th>(69.08, 80.46]</th>\n",
       "      <td>1425</td>\n",
       "      <td>8.607151</td>\n",
       "    </tr>\n",
       "    <tr>\n",
       "      <th>(23.56, 34.94]</th>\n",
       "      <td>927</td>\n",
       "      <td>5.599179</td>\n",
       "    </tr>\n",
       "    <tr>\n",
       "      <th>(80.46, 91.84]</th>\n",
       "      <td>544</td>\n",
       "      <td>3.285818</td>\n",
       "    </tr>\n",
       "    <tr>\n",
       "      <th>(91.84, 103.22]</th>\n",
       "      <td>202</td>\n",
       "      <td>1.220101</td>\n",
       "    </tr>\n",
       "    <tr>\n",
       "      <th>(103.22, 114.6]</th>\n",
       "      <td>77</td>\n",
       "      <td>0.465088</td>\n",
       "    </tr>\n",
       "    <tr>\n",
       "      <th>(114.6, 125.98]</th>\n",
       "      <td>20</td>\n",
       "      <td>0.120802</td>\n",
       "    </tr>\n",
       "    <tr>\n",
       "      <th>(125.98, 137.36]</th>\n",
       "      <td>15</td>\n",
       "      <td>0.090602</td>\n",
       "    </tr>\n",
       "    <tr>\n",
       "      <th>(137.36, 148.74]</th>\n",
       "      <td>6</td>\n",
       "      <td>0.036241</td>\n",
       "    </tr>\n",
       "    <tr>\n",
       "      <th>(148.74, 160.12]</th>\n",
       "      <td>4</td>\n",
       "      <td>0.024160</td>\n",
       "    </tr>\n",
       "    <tr>\n",
       "      <th>(12.18, 23.56]</th>\n",
       "      <td>3</td>\n",
       "      <td>0.018120</td>\n",
       "    </tr>\n",
       "    <tr>\n",
       "      <th>(160.12, 171.5]</th>\n",
       "      <td>2</td>\n",
       "      <td>0.012080</td>\n",
       "    </tr>\n",
       "    <tr>\n",
       "      <th>(0.628, 12.18]</th>\n",
       "      <td>1</td>\n",
       "      <td>0.006040</td>\n",
       "    </tr>\n",
       "  </tbody>\n",
       "</table>\n",
       "</div>"
      ],
      "text/plain": [
       "CLASSE_PESO       Frequencia  Percentual\n",
       "(46.32, 57.7]           5754   34.754772\n",
       "(34.94, 46.32]          3852   23.266489\n",
       "(57.7, 69.08]           3724   22.493356\n",
       "(69.08, 80.46]          1425    8.607151\n",
       "(23.56, 34.94]           927    5.599179\n",
       "(80.46, 91.84]           544    3.285818\n",
       "(91.84, 103.22]          202    1.220101\n",
       "(103.22, 114.6]           77    0.465088\n",
       "(114.6, 125.98]           20    0.120802\n",
       "(125.98, 137.36]          15    0.090602\n",
       "(137.36, 148.74]           6    0.036241\n",
       "(148.74, 160.12]           4    0.024160\n",
       "(12.18, 23.56]             3    0.018120\n",
       "(160.12, 171.5]            2    0.012080\n",
       "(0.628, 12.18]             1    0.006040"
      ]
     },
     "execution_count": 30,
     "metadata": {},
     "output_type": "execute_result"
    }
   ],
   "source": [
    "pense_2015['CLASSE_PESO'] = pd.cut(x = pense_2015['VB17003'],\n",
    "        bins= k,\n",
    "      include_lowest=True)\n",
    "\n",
    "tabela_frequencia(pense_2015,'CLASSE_PESO','CLASSE_PESO')"
   ]
  },
  {
   "cell_type": "markdown",
   "metadata": {},
   "source": [
    "#### Desafio 05: Final tabela de Frequencia com o PESO"
   ]
  },
  {
   "cell_type": "code",
   "execution_count": 31,
   "metadata": {},
   "outputs": [
    {
     "data": {
      "text/html": [
       "<div>\n",
       "<style scoped>\n",
       "    .dataframe tbody tr th:only-of-type {\n",
       "        vertical-align: middle;\n",
       "    }\n",
       "\n",
       "    .dataframe tbody tr th {\n",
       "        vertical-align: top;\n",
       "    }\n",
       "\n",
       "    .dataframe thead th {\n",
       "        text-align: right;\n",
       "    }\n",
       "</style>\n",
       "<table border=\"1\" class=\"dataframe\">\n",
       "  <thead>\n",
       "    <tr style=\"text-align: right;\">\n",
       "      <th>VB01001</th>\n",
       "      <th>Masculino</th>\n",
       "      <th>Femenino</th>\n",
       "    </tr>\n",
       "    <tr>\n",
       "      <th>VB11007</th>\n",
       "      <th></th>\n",
       "      <th></th>\n",
       "    </tr>\n",
       "  </thead>\n",
       "  <tbody>\n",
       "    <tr>\n",
       "      <th>Muito satisfeito</th>\n",
       "      <td>2682</td>\n",
       "      <td>1926</td>\n",
       "    </tr>\n",
       "    <tr>\n",
       "      <th>Satisfeito</th>\n",
       "      <td>3490</td>\n",
       "      <td>3430</td>\n",
       "    </tr>\n",
       "    <tr>\n",
       "      <th>Indiferente</th>\n",
       "      <td>950</td>\n",
       "      <td>857</td>\n",
       "    </tr>\n",
       "    <tr>\n",
       "      <th>Insatisfeito</th>\n",
       "      <td>786</td>\n",
       "      <td>1540</td>\n",
       "    </tr>\n",
       "    <tr>\n",
       "      <th>Muito insatisfeito</th>\n",
       "      <td>260</td>\n",
       "      <td>454</td>\n",
       "    </tr>\n",
       "    <tr>\n",
       "      <th>Não informado</th>\n",
       "      <td>119</td>\n",
       "      <td>62</td>\n",
       "    </tr>\n",
       "  </tbody>\n",
       "</table>\n",
       "</div>"
      ],
      "text/plain": [
       "VB01001             Masculino  Femenino\n",
       "VB11007                                \n",
       "Muito satisfeito         2682      1926\n",
       "Satisfeito               3490      3430\n",
       "Indiferente               950       857\n",
       "Insatisfeito              786      1540\n",
       "Muito insatisfeito        260       454\n",
       "Não informado             119        62"
      ]
     },
     "execution_count": 31,
     "metadata": {},
     "output_type": "execute_result"
    }
   ],
   "source": [
    "frequencia_cruzada = pd.crosstab(pense_2015['VB11007'],pense_2015['VB01001'])\n",
    "frequencia_cruzada.rename(index=respostas, inplace=True)\n",
    "frequencia_cruzada.rename(columns = {1:'Masculino',2: 'Femenino'},inplace=True)\n",
    "frequencia_cruzada"
   ]
  },
  {
   "cell_type": "markdown",
   "metadata": {},
   "source": [
    "### Crosstab\n",
    "link: https://pbpython.com/pandas-crosstab.html"
   ]
  },
  {
   "cell_type": "code",
   "execution_count": 32,
   "metadata": {},
   "outputs": [
    {
     "data": {
      "text/html": [
       "<div>\n",
       "<style scoped>\n",
       "    .dataframe tbody tr th:only-of-type {\n",
       "        vertical-align: middle;\n",
       "    }\n",
       "\n",
       "    .dataframe tbody tr th {\n",
       "        vertical-align: top;\n",
       "    }\n",
       "\n",
       "    .dataframe thead th {\n",
       "        text-align: right;\n",
       "    }\n",
       "</style>\n",
       "<table border=\"1\" class=\"dataframe\">\n",
       "  <thead>\n",
       "    <tr style=\"text-align: right;\">\n",
       "      <th>VB01001</th>\n",
       "      <th>Masculino</th>\n",
       "      <th>Femenino</th>\n",
       "    </tr>\n",
       "    <tr>\n",
       "      <th>VB11007</th>\n",
       "      <th></th>\n",
       "      <th></th>\n",
       "    </tr>\n",
       "  </thead>\n",
       "  <tbody>\n",
       "    <tr>\n",
       "      <th>1</th>\n",
       "      <td>0.323639</td>\n",
       "      <td>0.232918</td>\n",
       "    </tr>\n",
       "    <tr>\n",
       "      <th>2</th>\n",
       "      <td>0.421142</td>\n",
       "      <td>0.414802</td>\n",
       "    </tr>\n",
       "    <tr>\n",
       "      <th>3</th>\n",
       "      <td>0.114637</td>\n",
       "      <td>0.103640</td>\n",
       "    </tr>\n",
       "    <tr>\n",
       "      <th>4</th>\n",
       "      <td>0.094847</td>\n",
       "      <td>0.186238</td>\n",
       "    </tr>\n",
       "    <tr>\n",
       "      <th>5</th>\n",
       "      <td>0.031374</td>\n",
       "      <td>0.054904</td>\n",
       "    </tr>\n",
       "    <tr>\n",
       "      <th>99</th>\n",
       "      <td>0.014360</td>\n",
       "      <td>0.007498</td>\n",
       "    </tr>\n",
       "  </tbody>\n",
       "</table>\n",
       "</div>"
      ],
      "text/plain": [
       "VB01001  Masculino  Femenino\n",
       "VB11007                     \n",
       "1         0.323639  0.232918\n",
       "2         0.421142  0.414802\n",
       "3         0.114637  0.103640\n",
       "4         0.094847  0.186238\n",
       "5         0.031374  0.054904\n",
       "99        0.014360  0.007498"
      ]
     },
     "execution_count": 32,
     "metadata": {},
     "output_type": "execute_result"
    }
   ],
   "source": [
    "#Podemos normalizar para ter os porcentagens com Normalize, por columns (proporçoes por colunas ou por indice='index'(linhas))\n",
    "#soma dos valores deve dar 100% dependendo se escolhemos indice ou columns\n",
    "frequencia_cruzada.rename(index=respostas, inplace=True)\n",
    "frequencia_cruzada = pd.crosstab(pense_2015['VB11007'],pense_2015['VB01001'],normalize='columns') \n",
    "frequencia_cruzada.rename(columns = {1:'Masculino',2: 'Femenino'},inplace=True)\n",
    "frequencia_cruzada"
   ]
  },
  {
   "cell_type": "code",
   "execution_count": 33,
   "metadata": {},
   "outputs": [],
   "source": [
    "satisfacao = {\n",
    "    1:'Muito satisfeito(a)',\n",
    "    2:'Satisfeito(a)',\n",
    "    3:'Indiferente',\n",
    "    4:'Insatisfeito(a)',\n",
    "    5:'Muito insatisfeito(a)',\n",
    "    99:'Não informado'\n",
    "}"
   ]
  },
  {
   "cell_type": "code",
   "execution_count": 34,
   "metadata": {},
   "outputs": [
    {
     "data": {
      "text/html": [
       "<div>\n",
       "<style scoped>\n",
       "    .dataframe tbody tr th:only-of-type {\n",
       "        vertical-align: middle;\n",
       "    }\n",
       "\n",
       "    .dataframe tbody tr th {\n",
       "        vertical-align: top;\n",
       "    }\n",
       "\n",
       "    .dataframe thead th {\n",
       "        text-align: right;\n",
       "    }\n",
       "</style>\n",
       "<table border=\"1\" class=\"dataframe\">\n",
       "  <thead>\n",
       "    <tr style=\"text-align: right;\">\n",
       "      <th></th>\n",
       "      <th>VB01001</th>\n",
       "      <th>Masculino</th>\n",
       "      <th>Femenino</th>\n",
       "      <th>Total</th>\n",
       "    </tr>\n",
       "    <tr>\n",
       "      <th>VB11007</th>\n",
       "      <th>CLASSE_IMC</th>\n",
       "      <th></th>\n",
       "      <th></th>\n",
       "      <th></th>\n",
       "    </tr>\n",
       "  </thead>\n",
       "  <tbody>\n",
       "    <tr>\n",
       "      <th rowspan=\"4\" valign=\"top\">Muito satisfeito(a)</th>\n",
       "      <th>abaixo</th>\n",
       "      <td>12.598045</td>\n",
       "      <td>8.936994</td>\n",
       "      <td>10.769510</td>\n",
       "    </tr>\n",
       "    <tr>\n",
       "      <th>normal</th>\n",
       "      <td>17.183540</td>\n",
       "      <td>12.540815</td>\n",
       "      <td>14.864702</td>\n",
       "    </tr>\n",
       "    <tr>\n",
       "      <th>sobrepeso</th>\n",
       "      <td>2.111741</td>\n",
       "      <td>1.475390</td>\n",
       "      <td>1.793912</td>\n",
       "    </tr>\n",
       "    <tr>\n",
       "      <th>obesidad</th>\n",
       "      <td>0.470617</td>\n",
       "      <td>0.338614</td>\n",
       "      <td>0.404687</td>\n",
       "    </tr>\n",
       "    <tr>\n",
       "      <th rowspan=\"4\" valign=\"top\">Satisfeito(a)</th>\n",
       "      <th>abaixo</th>\n",
       "      <td>12.585978</td>\n",
       "      <td>12.190108</td>\n",
       "      <td>12.388258</td>\n",
       "    </tr>\n",
       "    <tr>\n",
       "      <th>normal</th>\n",
       "      <td>24.701339</td>\n",
       "      <td>25.468618</td>\n",
       "      <td>25.084561</td>\n",
       "    </tr>\n",
       "    <tr>\n",
       "      <th>sobrepeso</th>\n",
       "      <td>3.692530</td>\n",
       "      <td>3.168461</td>\n",
       "      <td>3.430780</td>\n",
       "    </tr>\n",
       "    <tr>\n",
       "      <th>obesidad</th>\n",
       "      <td>1.134307</td>\n",
       "      <td>0.653041</td>\n",
       "      <td>0.893936</td>\n",
       "    </tr>\n",
       "    <tr>\n",
       "      <th rowspan=\"4\" valign=\"top\">Indiferente</th>\n",
       "      <th>abaixo</th>\n",
       "      <td>3.137444</td>\n",
       "      <td>2.418672</td>\n",
       "      <td>2.778449</td>\n",
       "    </tr>\n",
       "    <tr>\n",
       "      <th>normal</th>\n",
       "      <td>5.707735</td>\n",
       "      <td>5.708066</td>\n",
       "      <td>5.707900</td>\n",
       "    </tr>\n",
       "    <tr>\n",
       "      <th>sobrepeso</th>\n",
       "      <td>1.761796</td>\n",
       "      <td>1.523763</td>\n",
       "      <td>1.642909</td>\n",
       "    </tr>\n",
       "    <tr>\n",
       "      <th>obesidad</th>\n",
       "      <td>0.856764</td>\n",
       "      <td>0.713508</td>\n",
       "      <td>0.785214</td>\n",
       "    </tr>\n",
       "    <tr>\n",
       "      <th rowspan=\"4\" valign=\"top\">Insatisfeito(a)</th>\n",
       "      <th>abaixo</th>\n",
       "      <td>1.858332</td>\n",
       "      <td>3.603822</td>\n",
       "      <td>2.730128</td>\n",
       "    </tr>\n",
       "    <tr>\n",
       "      <th>normal</th>\n",
       "      <td>4.814770</td>\n",
       "      <td>9.940743</td>\n",
       "      <td>7.374970</td>\n",
       "    </tr>\n",
       "    <tr>\n",
       "      <th>sobrepeso</th>\n",
       "      <td>1.737661</td>\n",
       "      <td>3.773129</td>\n",
       "      <td>2.754288</td>\n",
       "    </tr>\n",
       "    <tr>\n",
       "      <th>obesidad</th>\n",
       "      <td>1.073971</td>\n",
       "      <td>1.306083</td>\n",
       "      <td>1.189901</td>\n",
       "    </tr>\n",
       "    <tr>\n",
       "      <th rowspan=\"4\" valign=\"top\">Muito insatisfeito(a)</th>\n",
       "      <th>abaixo</th>\n",
       "      <td>0.953300</td>\n",
       "      <td>1.100496</td>\n",
       "      <td>1.026818</td>\n",
       "    </tr>\n",
       "    <tr>\n",
       "      <th>normal</th>\n",
       "      <td>1.218776</td>\n",
       "      <td>2.454952</td>\n",
       "      <td>1.836192</td>\n",
       "    </tr>\n",
       "    <tr>\n",
       "      <th>sobrepeso</th>\n",
       "      <td>0.711958</td>\n",
       "      <td>1.136776</td>\n",
       "      <td>0.924136</td>\n",
       "    </tr>\n",
       "    <tr>\n",
       "      <th>obesidad</th>\n",
       "      <td>0.253409</td>\n",
       "      <td>0.798162</td>\n",
       "      <td>0.525489</td>\n",
       "    </tr>\n",
       "    <tr>\n",
       "      <th rowspan=\"4\" valign=\"top\">Não informado</th>\n",
       "      <th>abaixo</th>\n",
       "      <td>0.482684</td>\n",
       "      <td>0.229774</td>\n",
       "      <td>0.356366</td>\n",
       "    </tr>\n",
       "    <tr>\n",
       "      <th>normal</th>\n",
       "      <td>0.820562</td>\n",
       "      <td>0.435361</td>\n",
       "      <td>0.628171</td>\n",
       "    </tr>\n",
       "    <tr>\n",
       "      <th>sobrepeso</th>\n",
       "      <td>0.096537</td>\n",
       "      <td>0.072560</td>\n",
       "      <td>0.084561</td>\n",
       "    </tr>\n",
       "    <tr>\n",
       "      <th>obesidad</th>\n",
       "      <td>0.036201</td>\n",
       "      <td>0.012093</td>\n",
       "      <td>0.024160</td>\n",
       "    </tr>\n",
       "  </tbody>\n",
       "</table>\n",
       "</div>"
      ],
      "text/plain": [
       "VB01001                           Masculino   Femenino      Total\n",
       "VB11007               CLASSE_IMC                                 \n",
       "Muito satisfeito(a)   abaixo      12.598045   8.936994  10.769510\n",
       "                      normal      17.183540  12.540815  14.864702\n",
       "                      sobrepeso    2.111741   1.475390   1.793912\n",
       "                      obesidad     0.470617   0.338614   0.404687\n",
       "Satisfeito(a)         abaixo      12.585978  12.190108  12.388258\n",
       "                      normal      24.701339  25.468618  25.084561\n",
       "                      sobrepeso    3.692530   3.168461   3.430780\n",
       "                      obesidad     1.134307   0.653041   0.893936\n",
       "Indiferente           abaixo       3.137444   2.418672   2.778449\n",
       "                      normal       5.707735   5.708066   5.707900\n",
       "                      sobrepeso    1.761796   1.523763   1.642909\n",
       "                      obesidad     0.856764   0.713508   0.785214\n",
       "Insatisfeito(a)       abaixo       1.858332   3.603822   2.730128\n",
       "                      normal       4.814770   9.940743   7.374970\n",
       "                      sobrepeso    1.737661   3.773129   2.754288\n",
       "                      obesidad     1.073971   1.306083   1.189901\n",
       "Muito insatisfeito(a) abaixo       0.953300   1.100496   1.026818\n",
       "                      normal       1.218776   2.454952   1.836192\n",
       "                      sobrepeso    0.711958   1.136776   0.924136\n",
       "                      obesidad     0.253409   0.798162   0.525489\n",
       "Não informado         abaixo       0.482684   0.229774   0.356366\n",
       "                      normal       0.820562   0.435361   0.628171\n",
       "                      sobrepeso    0.096537   0.072560   0.084561\n",
       "                      obesidad     0.036201   0.012093   0.024160"
      ]
     },
     "execution_count": 34,
     "metadata": {},
     "output_type": "execute_result"
    }
   ],
   "source": [
    "#Podemos normalizar para ter os porcentagens com Normalize, por columns (proporçoes por colunas ou por indice='index'(linhas))\n",
    "#soma dos valores deve dar 100% dependendo se escolhemos indice ou columns\n",
    "frequencia_cruzada.rename(index=respostas, inplace=True)\n",
    "frequencia_cruzada = pd.crosstab([pense_2015['VB11007'],pense_2015['CLASSE_IMC']],pense_2015['VB01001'],normalize='columns', margins=True, margins_name='Total')* 100\n",
    "frequencia_cruzada.rename(columns = {1:'Masculino',2: 'Femenino'},inplace=True)\n",
    "frequencia_cruzada.rename(satisfacao, inplace=True)\n",
    "frequencia_cruzada"
   ]
  },
  {
   "cell_type": "markdown",
   "metadata": {},
   "source": [
    "# Desafio 06: Criar crosstab testanto Aggfunc"
   ]
  },
  {
   "cell_type": "code",
   "execution_count": 35,
   "metadata": {},
   "outputs": [
    {
     "data": {
      "text/html": [
       "<div>\n",
       "<style scoped>\n",
       "    .dataframe tbody tr th:only-of-type {\n",
       "        vertical-align: middle;\n",
       "    }\n",
       "\n",
       "    .dataframe tbody tr th {\n",
       "        vertical-align: top;\n",
       "    }\n",
       "\n",
       "    .dataframe thead th {\n",
       "        text-align: right;\n",
       "    }\n",
       "</style>\n",
       "<table border=\"1\" class=\"dataframe\">\n",
       "  <thead>\n",
       "    <tr style=\"text-align: right;\">\n",
       "      <th>VB01001</th>\n",
       "      <th>Masculino</th>\n",
       "      <th>Femenino</th>\n",
       "      <th>All</th>\n",
       "    </tr>\n",
       "    <tr>\n",
       "      <th>VB11007</th>\n",
       "      <th></th>\n",
       "      <th></th>\n",
       "      <th></th>\n",
       "    </tr>\n",
       "  </thead>\n",
       "  <tbody>\n",
       "    <tr>\n",
       "      <th>Muito satisfeito(a)</th>\n",
       "      <td>2682</td>\n",
       "      <td>1926</td>\n",
       "      <td>4608</td>\n",
       "    </tr>\n",
       "    <tr>\n",
       "      <th>Satisfeito(a)</th>\n",
       "      <td>6980</td>\n",
       "      <td>6860</td>\n",
       "      <td>13840</td>\n",
       "    </tr>\n",
       "    <tr>\n",
       "      <th>Indiferente</th>\n",
       "      <td>2850</td>\n",
       "      <td>2571</td>\n",
       "      <td>5421</td>\n",
       "    </tr>\n",
       "    <tr>\n",
       "      <th>Insatisfeito(a)</th>\n",
       "      <td>3144</td>\n",
       "      <td>6160</td>\n",
       "      <td>9304</td>\n",
       "    </tr>\n",
       "    <tr>\n",
       "      <th>Muito insatisfeito(a)</th>\n",
       "      <td>1300</td>\n",
       "      <td>2270</td>\n",
       "      <td>3570</td>\n",
       "    </tr>\n",
       "    <tr>\n",
       "      <th>Não informado</th>\n",
       "      <td>11781</td>\n",
       "      <td>6138</td>\n",
       "      <td>17919</td>\n",
       "    </tr>\n",
       "    <tr>\n",
       "      <th>All</th>\n",
       "      <td>28737</td>\n",
       "      <td>25925</td>\n",
       "      <td>54662</td>\n",
       "    </tr>\n",
       "  </tbody>\n",
       "</table>\n",
       "</div>"
      ],
      "text/plain": [
       "VB01001                Masculino  Femenino    All\n",
       "VB11007                                          \n",
       "Muito satisfeito(a)         2682      1926   4608\n",
       "Satisfeito(a)               6980      6860  13840\n",
       "Indiferente                 2850      2571   5421\n",
       "Insatisfeito(a)             3144      6160   9304\n",
       "Muito insatisfeito(a)       1300      2270   3570\n",
       "Não informado              11781      6138  17919\n",
       "All                        28737     25925  54662"
      ]
     },
     "execution_count": 35,
     "metadata": {},
     "output_type": "execute_result"
    }
   ],
   "source": [
    "frequencia_cruzada.rename(index=respostas, inplace=True)\n",
    "frequencia_cruzada = pd.crosstab(pense_2015['VB11007'],pense_2015['VB01001'],pense_2015['VB11007'],aggfunc=np.sum,margins=True)\n",
    "frequencia_cruzada.rename(columns = {1:'Masculino',2: 'Femenino'},inplace=True)\n",
    "frequencia_cruzada.rename(satisfacao, inplace=True)\n",
    "frequencia_cruzada"
   ]
  },
  {
   "cell_type": "markdown",
   "metadata": {},
   "source": [
    "# Desafio 06: Final crosstab testanto Aggfunc"
   ]
  },
  {
   "cell_type": "code",
   "execution_count": 36,
   "metadata": {},
   "outputs": [
    {
     "data": {
      "image/png": "[encoded data removed]",
      "text/plain": [
       "<Figure size 864x432 with 1 Axes>"
      ]
     },
     "metadata": {
      "needs_background": "light"
     },
     "output_type": "display_data"
    }
   ],
   "source": [
    "ax = sns.histplot(data= pense_2015, x='VB17004',)\n",
    "\n",
    "#alterar o tamanho do figure\n",
    "ax.figure.set_size_inches(12, 6)\n",
    "ax.set_title(\"Distribuiçao de Frequencia\")\n",
    "ax.set_xlabel(\"Altura\")\n",
    "plt.show()"
   ]
  },
  {
   "cell_type": "markdown",
   "metadata": {},
   "source": [
    "#### Calcular desvido padrao e calcular, media, moda e mediana e plotar no grafico"
   ]
  },
  {
   "cell_type": "code",
   "execution_count": 37,
   "metadata": {},
   "outputs": [],
   "source": [
    "def calculos_estatisticos(coluna,filter_col=None,params=''):\n",
    "    \n",
    "    if filter_col:\n",
    "        if pense_2015['VB01001'].dtype == 'int64':\n",
    "            params = int(params)    \n",
    "            \n",
    "        media = pense_2015[pense_2015[filter_col] == params][coluna].mean()\n",
    "        mediana = pense_2015[pense_2015[filter_col] == params][coluna].median()\n",
    "        moda = pense_2015[pense_2015[filter_col] == params][coluna].mode().iloc[0]\n",
    "        desvio_p = pense_2015[pense_2015[filter_col] == params][coluna].std(ddof=0)\n",
    "    else:\n",
    "        media = pense_2015[coluna].mean()\n",
    "        mediana = pense_2015[coluna].median()\n",
    "        moda = pense_2015[coluna].mode().iloc[0]\n",
    "        desvio_p = pense_2015[coluna].std(ddof=0)\n",
    "    \n",
    "    return (media, mediana,moda,desvio_p)"
   ]
  },
  {
   "cell_type": "code",
   "execution_count": 38,
   "metadata": {},
   "outputs": [
    {
     "name": "stdout",
     "output_type": "stream",
     "text": [
      "media: 160.71311307078818,\n",
      "mediana: 160.4,\n",
      "moda: 160.0,\n",
      "desvido padrao: 10.339757953495102\n"
     ]
    }
   ],
   "source": [
    "media_altura, mediana_altura, moda_altura, desvio_p_altura = calculos_estatisticos('VB17004')\n",
    "\n",
    "print(f'media: {media_altura},\\nmediana: {mediana_altura},\\nmoda: {moda_altura},\\ndesvido padrao: {desvio_p_altura}')"
   ]
  },
  {
   "cell_type": "code",
   "execution_count": 39,
   "metadata": {},
   "outputs": [
    {
     "data": {
      "text/plain": [
       "2        161.4\n",
       "3        172.5\n",
       "4        167.5\n",
       "8        170.0\n",
       "11       168.3\n",
       "         ...  \n",
       "16548    160.5\n",
       "16552    185.8\n",
       "16553    159.4\n",
       "16554    157.8\n",
       "16555    163.9\n",
       "Name: VB17004, Length: 8287, dtype: float64"
      ]
     },
     "execution_count": 39,
     "metadata": {},
     "output_type": "execute_result"
    }
   ],
   "source": [
    "pense_2015[pense_2015['VB01001'] == 1]['VB17004']"
   ]
  },
  {
   "cell_type": "code",
   "execution_count": 40,
   "metadata": {},
   "outputs": [
    {
     "data": {
      "image/png": "[encoded data removed]",
      "text/plain": [
       "<Figure size 864x432 with 1 Axes>"
      ]
     },
     "metadata": {
      "needs_background": "light"
     },
     "output_type": "display_data"
    }
   ],
   "source": [
    "ax = sns.histplot(data= pense_2015, x='VB17004', kde=True)\n",
    "\n",
    "#alterar o tamanho do figure\n",
    "ax.figure.set_size_inches(12, 6)\n",
    "ax.set_title(\"Distribuiçao de Frequencia\")\n",
    "ax.set_xlabel(\"Altura\")\n",
    "\n",
    "ax.axvline(media_altura, color='red', linestyle='-')\n",
    "ax.axvline(mediana_altura, color='black', linestyle='--')\n",
    "ax.axvline(moda_altura, color='yellow', linestyle='-')\n",
    "\n",
    "plt.show()"
   ]
  },
  {
   "cell_type": "markdown",
   "metadata": {},
   "source": [
    "### Comparaçoes entre histogramas"
   ]
  },
  {
   "cell_type": "code",
   "execution_count": 41,
   "metadata": {},
   "outputs": [
    {
     "name": "stdout",
     "output_type": "stream",
     "text": [
      "media: 163.86075781344374,\n",
      "mediana: 165.5,\n",
      "moda: 170.0,\n",
      "desvido padrao: 11.80558379196521\n",
      "media: 157.5586165195304,\n",
      "mediana: 158.0,\n",
      "moda: 160.0,\n",
      "desvido padrao: 7.382319127234598\n"
     ]
    }
   ],
   "source": [
    "media_altura_h, mediana_altura_h, moda_altura_h, desvio_p_altura_h = calculos_estatisticos('VB17004','VB01001','1')\n",
    "print(f'media: {media_altura_h},\\nmediana: {mediana_altura_h},\\nmoda: {moda_altura_h},\\ndesvido padrao: {desvio_p_altura_h}')\n",
    "\n",
    "media_altura_m, mediana_altura_m, moda_altura_m, desvio_p_altura_m = calculos_estatisticos('VB17004','VB01001','2')\n",
    "print(f'media: {media_altura_m},\\nmediana: {mediana_altura_m},\\nmoda: {moda_altura_m},\\ndesvido padrao: {desvio_p_altura_m}')\n",
    "\n"
   ]
  },
  {
   "cell_type": "code",
   "execution_count": 42,
   "metadata": {},
   "outputs": [
    {
     "data": {
      "image/png": "[encoded data removed]",
      "text/plain": [
       "<Figure size 864x432 with 1 Axes>"
      ]
     },
     "metadata": {
      "needs_background": "light"
     },
     "output_type": "display_data"
    }
   ],
   "source": [
    "ax = sns.histplot(data= pense_2015, x='VB17004', kde=True, hue='VB01001',element='step',fill=True)\n",
    "\n",
    "#alterar o tamanho do figure\n",
    "ax.figure.set_size_inches(12, 6)\n",
    "ax.set_title(\"Distribuiçao de Frequencia\")\n",
    "ax.set_xlabel(\"Altura\")\n",
    "\n",
    "#alturas Homem\n",
    "ax.axvline(media_altura_h, color='red', linestyle='--')\n",
    "ax.axvline(mediana_altura_h, color='black', linestyle='--')\n",
    "ax.axvline(moda_altura_h, color='yellow', linestyle='--')\n",
    "\n",
    "#alturas Mulher\n",
    "ax.axvline(media_altura_m, color='darkorange', linestyle='-')\n",
    "ax.axvline(mediana_altura_m, color='darkblue', linestyle='-')\n",
    "ax.axvline(moda_altura_m, color='brown', linestyle='-')\n",
    "\n",
    "\n",
    "plt.show()"
   ]
  },
  {
   "cell_type": "markdown",
   "metadata": {},
   "source": [
    "### BoxPlot"
   ]
  },
  {
   "cell_type": "code",
   "execution_count": 43,
   "metadata": {},
   "outputs": [
    {
     "data": {
      "image/png": "[encoded data removed]",
      "text/plain": [
       "<Figure size 864x432 with 1 Axes>"
      ]
     },
     "metadata": {
      "needs_background": "light"
     },
     "output_type": "display_data"
    }
   ],
   "source": [
    "ax = sns.boxplot(data=pense_2015, x='VB17004')\n",
    "\n",
    "#alterar o tamanho do figure\n",
    "ax.figure.set_size_inches(12, 6)\n",
    "ax.set_title(\"Box plot da altura\")\n",
    "ax.set_xlabel(\"Altura\")\n",
    "\n",
    "\n",
    "plt.show()"
   ]
  },
  {
   "cell_type": "markdown",
   "metadata": {},
   "source": [
    "# Desafio tirar os ranges dos outliars"
   ]
  },
  {
   "cell_type": "code",
   "execution_count": 44,
   "metadata": {},
   "outputs": [],
   "source": [
    "def outliers_data_set(df,coluna):\n",
    "    q1 = df[coluna].quantile(0.25)\n",
    "    q3 = df[coluna].quantile(0.75)\n",
    "    iqr = q3 - q1\n",
    "    valor_min = q1 - 1.5*iqr\n",
    "    valor_max = q3 + 1.5*iqr\n",
    "    print(f' para \"{coluna}\" os valores menores de: {valor_min:.2f} e valores maiores de: {valor_max:.2f} sao outliers')"
   ]
  },
  {
   "cell_type": "code",
   "execution_count": 45,
   "metadata": {},
   "outputs": [
    {
     "name": "stdout",
     "output_type": "stream",
     "text": [
      " para \"VB17004\" os valores menores de: 132.65 e valores maiores de: 189.05 sao outliers\n"
     ]
    }
   ],
   "source": [
    "outliers_data_set(pense_2015,'VB17004')"
   ]
  },
  {
   "cell_type": "code",
   "execution_count": 46,
   "metadata": {},
   "outputs": [
    {
     "data": {
      "image/png": "[encoded data removed]",
      "text/plain": [
       "<Figure size 864x432 with 1 Axes>"
      ]
     },
     "metadata": {
      "needs_background": "light"
     },
     "output_type": "display_data"
    }
   ],
   "source": [
    "ax = sns.boxplot(data=pense_2015, y='VB17004',x='VB01001')\n",
    "\n",
    "#alterar o tamanho do figure\n",
    "ax.figure.set_size_inches(12, 6)\n",
    "ax.set_title(\"Box plot da altura\")\n",
    "ax.set_xlabel(\"Altura\")\n",
    "\n",
    "\n",
    "plt.show()"
   ]
  },
  {
   "cell_type": "code",
   "execution_count": 47,
   "metadata": {},
   "outputs": [
    {
     "data": {
      "image/png": "[encoded data removed]",
      "text/plain": [
       "<Figure size 864x432 with 1 Axes>"
      ]
     },
     "metadata": {
      "needs_background": "light"
     },
     "output_type": "display_data"
    }
   ],
   "source": [
    "ax = sns.boxplot(data=pense_2015, x='VB01003',y='VB17004',hue='VB01001')\n",
    "\n",
    "#alterar o tamanho do figure\n",
    "ax.figure.set_size_inches(12, 6)\n",
    "ax.set_title(\"Box plot da altura\")\n",
    "ax.set_ylabel(\"Altura\")\n",
    "ax.set_xlabel(\"Idade\")\n",
    "\n",
    "\n",
    "plt.show()"
   ]
  },
  {
   "cell_type": "markdown",
   "metadata": {},
   "source": [
    "### FIM BoxPlot"
   ]
  },
  {
   "cell_type": "markdown",
   "metadata": {},
   "source": [
    "# Histograma de densidade"
   ]
  },
  {
   "cell_type": "markdown",
   "metadata": {},
   "source": [
    "com esta visualizaçao podemos ver os segmentos da amostra com os valores cumulativos"
   ]
  },
  {
   "cell_type": "code",
   "execution_count": 48,
   "metadata": {},
   "outputs": [
    {
     "data": {
      "image/png": "[encoded data removed]",
      "text/plain": [
       "<Figure size 720x432 with 1 Axes>"
      ]
     },
     "metadata": {
      "needs_background": "light"
     },
     "output_type": "display_data"
    }
   ],
   "source": [
    "ax = sns.histplot(data=pense_2015, x='VB17004', kde= True,\n",
    "                 cumulative=True,\n",
    "                 stat='density',\n",
    "                 bins=10)\n",
    "ax.figure.set_size_inches(10,6)\n",
    "ax.set_title('Histograma Acumulado')\n",
    "ax.set_ylabel('ratio')\n",
    "ax.set_xlabel('altura')\n",
    "plt.show()\n",
    "# podemos ver por exemplo 20% da amostra tem 1.52m (podemos tirar o dado pelo pense_2015['VB17004'].quantile(20))"
   ]
  },
  {
   "cell_type": "code",
   "execution_count": 49,
   "metadata": {},
   "outputs": [
    {
     "data": {
      "text/plain": [
       "160.71311307078818"
      ]
     },
     "execution_count": 49,
     "metadata": {},
     "output_type": "execute_result"
    }
   ],
   "source": [
    "pense_2015['VB17004'].mean()"
   ]
  },
  {
   "cell_type": "code",
   "execution_count": 50,
   "metadata": {},
   "outputs": [
    {
     "data": {
      "text/plain": [
       "VB01001\n",
       "1    163.860758\n",
       "2    157.558617\n",
       "Name: VB17004, dtype: float64"
      ]
     },
     "execution_count": 50,
     "metadata": {},
     "output_type": "execute_result"
    }
   ],
   "source": [
    "pense_2015.groupby(by=['VB01001'])['VB17004'].mean()"
   ]
  },
  {
   "cell_type": "code",
   "execution_count": 51,
   "metadata": {},
   "outputs": [
    {
     "data": {
      "text/plain": [
       "VB01001  VB01003\n",
       "1        11         147.617753\n",
       "         12         153.696764\n",
       "         13         160.719801\n",
       "         14         166.406922\n",
       "         15         170.336297\n",
       "         16         172.424933\n",
       "         17         173.814341\n",
       "         18         173.024561\n",
       "         19         172.143158\n",
       "2        11         149.522512\n",
       "         12         154.965021\n",
       "         13         157.673105\n",
       "         14         159.340320\n",
       "         15         160.759848\n",
       "         16         160.386527\n",
       "         17         160.907937\n",
       "         18         159.438462\n",
       "         19         158.977193\n",
       "Name: VB17004, dtype: float64"
      ]
     },
     "execution_count": 51,
     "metadata": {},
     "output_type": "execute_result"
    }
   ],
   "source": [
    "pense_2015.groupby(by=['VB01001','VB01003'])['VB17004'].mean()"
   ]
  },
  {
   "cell_type": "markdown",
   "metadata": {},
   "source": [
    "## Desafio: Fazer o calculo da média por sexo e idade através do Crosstab"
   ]
  },
  {
   "cell_type": "code",
   "execution_count": 54,
   "metadata": {},
   "outputs": [
    {
     "data": {
      "text/html": [
       "<div>\n",
       "<style scoped>\n",
       "    .dataframe tbody tr th:only-of-type {\n",
       "        vertical-align: middle;\n",
       "    }\n",
       "\n",
       "    .dataframe tbody tr th {\n",
       "        vertical-align: top;\n",
       "    }\n",
       "\n",
       "    .dataframe thead th {\n",
       "        text-align: right;\n",
       "    }\n",
       "</style>\n",
       "<table border=\"1\" class=\"dataframe\">\n",
       "  <thead>\n",
       "    <tr style=\"text-align: right;\">\n",
       "      <th>VB01001</th>\n",
       "      <th>1</th>\n",
       "      <th>2</th>\n",
       "      <th>All</th>\n",
       "    </tr>\n",
       "    <tr>\n",
       "      <th>VB01003</th>\n",
       "      <th></th>\n",
       "      <th></th>\n",
       "      <th></th>\n",
       "    </tr>\n",
       "  </thead>\n",
       "  <tbody>\n",
       "    <tr>\n",
       "      <th>11</th>\n",
       "      <td>147.617753</td>\n",
       "      <td>149.522512</td>\n",
       "      <td>148.605985</td>\n",
       "    </tr>\n",
       "    <tr>\n",
       "      <th>12</th>\n",
       "      <td>153.696764</td>\n",
       "      <td>154.965021</td>\n",
       "      <td>154.369894</td>\n",
       "    </tr>\n",
       "    <tr>\n",
       "      <th>13</th>\n",
       "      <td>160.719801</td>\n",
       "      <td>157.673105</td>\n",
       "      <td>159.229168</td>\n",
       "    </tr>\n",
       "    <tr>\n",
       "      <th>14</th>\n",
       "      <td>166.406922</td>\n",
       "      <td>159.340320</td>\n",
       "      <td>162.881903</td>\n",
       "    </tr>\n",
       "    <tr>\n",
       "      <th>15</th>\n",
       "      <td>170.336297</td>\n",
       "      <td>160.759848</td>\n",
       "      <td>165.644825</td>\n",
       "    </tr>\n",
       "    <tr>\n",
       "      <th>16</th>\n",
       "      <td>172.424933</td>\n",
       "      <td>160.386527</td>\n",
       "      <td>166.363304</td>\n",
       "    </tr>\n",
       "    <tr>\n",
       "      <th>17</th>\n",
       "      <td>173.814341</td>\n",
       "      <td>160.907937</td>\n",
       "      <td>167.466103</td>\n",
       "    </tr>\n",
       "    <tr>\n",
       "      <th>18</th>\n",
       "      <td>173.024561</td>\n",
       "      <td>159.438462</td>\n",
       "      <td>167.691474</td>\n",
       "    </tr>\n",
       "    <tr>\n",
       "      <th>19</th>\n",
       "      <td>172.143158</td>\n",
       "      <td>158.977193</td>\n",
       "      <td>165.906648</td>\n",
       "    </tr>\n",
       "    <tr>\n",
       "      <th>All</th>\n",
       "      <td>163.860758</td>\n",
       "      <td>157.558617</td>\n",
       "      <td>160.713113</td>\n",
       "    </tr>\n",
       "  </tbody>\n",
       "</table>\n",
       "</div>"
      ],
      "text/plain": [
       "VB01001           1           2         All\n",
       "VB01003                                    \n",
       "11       147.617753  149.522512  148.605985\n",
       "12       153.696764  154.965021  154.369894\n",
       "13       160.719801  157.673105  159.229168\n",
       "14       166.406922  159.340320  162.881903\n",
       "15       170.336297  160.759848  165.644825\n",
       "16       172.424933  160.386527  166.363304\n",
       "17       173.814341  160.907937  167.466103\n",
       "18       173.024561  159.438462  167.691474\n",
       "19       172.143158  158.977193  165.906648\n",
       "All      163.860758  157.558617  160.713113"
      ]
     },
     "execution_count": 54,
     "metadata": {},
     "output_type": "execute_result"
    }
   ],
   "source": [
    "pd.crosstab(pense_2015['VB01003'],pense_2015['VB01001'],pense_2015['VB17004'],aggfunc=np.mean,margins=True)"
   ]
  },
  {
   "cell_type": "markdown",
   "metadata": {},
   "source": [
    "## Fim Desafio Calculo"
   ]
  },
  {
   "cell_type": "code",
   "execution_count": 60,
   "metadata": {},
   "outputs": [
    {
     "data": {
      "text/html": [
       "<div>\n",
       "<style scoped>\n",
       "    .dataframe tbody tr th:only-of-type {\n",
       "        vertical-align: middle;\n",
       "    }\n",
       "\n",
       "    .dataframe tbody tr th {\n",
       "        vertical-align: top;\n",
       "    }\n",
       "\n",
       "    .dataframe thead th {\n",
       "        text-align: right;\n",
       "    }\n",
       "</style>\n",
       "<table border=\"1\" class=\"dataframe\">\n",
       "  <thead>\n",
       "    <tr style=\"text-align: right;\">\n",
       "      <th></th>\n",
       "      <th>VB17004</th>\n",
       "      <th>MEDIA_ALTURA</th>\n",
       "      <th>DIFERENA_MEDIA</th>\n",
       "      <th>DIFERENCA_QUADRADO</th>\n",
       "    </tr>\n",
       "  </thead>\n",
       "  <tbody>\n",
       "    <tr>\n",
       "      <th>0</th>\n",
       "      <td>157.0</td>\n",
       "      <td>160.713113</td>\n",
       "      <td>-3.713113</td>\n",
       "      <td>13.787209</td>\n",
       "    </tr>\n",
       "    <tr>\n",
       "      <th>1</th>\n",
       "      <td>152.0</td>\n",
       "      <td>160.713113</td>\n",
       "      <td>-8.713113</td>\n",
       "      <td>75.918339</td>\n",
       "    </tr>\n",
       "    <tr>\n",
       "      <th>2</th>\n",
       "      <td>161.4</td>\n",
       "      <td>160.713113</td>\n",
       "      <td>0.686887</td>\n",
       "      <td>0.471814</td>\n",
       "    </tr>\n",
       "    <tr>\n",
       "      <th>3</th>\n",
       "      <td>172.5</td>\n",
       "      <td>160.713113</td>\n",
       "      <td>11.786887</td>\n",
       "      <td>138.930703</td>\n",
       "    </tr>\n",
       "    <tr>\n",
       "      <th>4</th>\n",
       "      <td>167.5</td>\n",
       "      <td>160.713113</td>\n",
       "      <td>6.786887</td>\n",
       "      <td>46.061834</td>\n",
       "    </tr>\n",
       "    <tr>\n",
       "      <th>...</th>\n",
       "      <td>...</td>\n",
       "      <td>...</td>\n",
       "      <td>...</td>\n",
       "      <td>...</td>\n",
       "    </tr>\n",
       "    <tr>\n",
       "      <th>16551</th>\n",
       "      <td>167.9</td>\n",
       "      <td>160.713113</td>\n",
       "      <td>7.186887</td>\n",
       "      <td>51.651344</td>\n",
       "    </tr>\n",
       "    <tr>\n",
       "      <th>16552</th>\n",
       "      <td>185.8</td>\n",
       "      <td>160.713113</td>\n",
       "      <td>25.086887</td>\n",
       "      <td>629.351896</td>\n",
       "    </tr>\n",
       "    <tr>\n",
       "      <th>16553</th>\n",
       "      <td>159.4</td>\n",
       "      <td>160.713113</td>\n",
       "      <td>-1.313113</td>\n",
       "      <td>1.724266</td>\n",
       "    </tr>\n",
       "    <tr>\n",
       "      <th>16554</th>\n",
       "      <td>157.8</td>\n",
       "      <td>160.713113</td>\n",
       "      <td>-2.913113</td>\n",
       "      <td>8.486228</td>\n",
       "    </tr>\n",
       "    <tr>\n",
       "      <th>16555</th>\n",
       "      <td>163.9</td>\n",
       "      <td>160.713113</td>\n",
       "      <td>3.186887</td>\n",
       "      <td>10.156248</td>\n",
       "    </tr>\n",
       "  </tbody>\n",
       "</table>\n",
       "<p>16556 rows × 4 columns</p>\n",
       "</div>"
      ],
      "text/plain": [
       "       VB17004  MEDIA_ALTURA  DIFERENA_MEDIA  DIFERENCA_QUADRADO\n",
       "0        157.0    160.713113       -3.713113           13.787209\n",
       "1        152.0    160.713113       -8.713113           75.918339\n",
       "2        161.4    160.713113        0.686887            0.471814\n",
       "3        172.5    160.713113       11.786887          138.930703\n",
       "4        167.5    160.713113        6.786887           46.061834\n",
       "...        ...           ...             ...                 ...\n",
       "16551    167.9    160.713113        7.186887           51.651344\n",
       "16552    185.8    160.713113       25.086887          629.351896\n",
       "16553    159.4    160.713113       -1.313113            1.724266\n",
       "16554    157.8    160.713113       -2.913113            8.486228\n",
       "16555    163.9    160.713113        3.186887           10.156248\n",
       "\n",
       "[16556 rows x 4 columns]"
      ]
     },
     "execution_count": 60,
     "metadata": {},
     "output_type": "execute_result"
    }
   ],
   "source": [
    "media_altura = pense_2015['VB17004'].mean()\n",
    "pense_2015['MEDIA_ALTURA'] = media_altura\n",
    "diferenca_medias = pense_2015['VB17004'] - pense_2015['MEDIA_ALTURA']\n",
    "pense_2015['DIFERENA_MEDIA'] = diferenca_medias\n",
    "\n",
    "diferenca_quadrada = diferenca_medias**2\n",
    "pense_2015['DIFERENCA_QUADRADO'] = diferenca_quadrada\n",
    "pense_2015[['VB17004','MEDIA_ALTURA','DIFERENA_MEDIA','DIFERENCA_QUADRADO']]"
   ]
  },
  {
   "cell_type": "code",
   "execution_count": 65,
   "metadata": {},
   "outputs": [
    {
     "data": {
      "text/plain": [
       "106.91705244049119"
      ]
     },
     "execution_count": 65,
     "metadata": {},
     "output_type": "execute_result"
    }
   ],
   "source": [
    "varianca_amostral = (1/(len(pense_2015)-1)) * (pense_2015[\"DIFERENCA_QUADRADO\"].sum())\n",
    "varianca_amostral"
   ]
  },
  {
   "cell_type": "code",
   "execution_count": 61,
   "metadata": {},
   "outputs": [
    {
     "data": {
      "text/plain": [
       "106.9105945368652"
      ]
     },
     "execution_count": 61,
     "metadata": {},
     "output_type": "execute_result"
    }
   ],
   "source": [
    "pense_2015[\"DIFERENCA_QUADRADO\"].mean()"
   ]
  },
  {
   "cell_type": "code",
   "execution_count": 66,
   "metadata": {},
   "outputs": [
    {
     "data": {
      "text/plain": [
       "160.71311307078818"
      ]
     },
     "execution_count": 66,
     "metadata": {},
     "output_type": "execute_result"
    }
   ],
   "source": [
    "pense_2015['VB17004'].mean()"
   ]
  },
  {
   "cell_type": "code",
   "execution_count": 67,
   "metadata": {},
   "outputs": [
    {
     "data": {
      "text/plain": [
       "10.340070233827776"
      ]
     },
     "execution_count": 67,
     "metadata": {},
     "output_type": "execute_result"
    }
   ],
   "source": [
    "desvio_padrao = np.sqrt(varianca_amostral)\n",
    "desvio_padrao"
   ]
  },
  {
   "cell_type": "code",
   "execution_count": null,
   "metadata": {},
   "outputs": [],
   "source": []
  }
 ],
 "metadata": {
  "kernelspec": {
   "display_name": "Python 3",
   "language": "python",
   "name": "python3"
  },
  "language_info": {
   "codemirror_mode": {
    "name": "ipython",
    "version": 3
   },
   "file_extension": ".py",
   "mimetype": "text/x-python",
   "name": "python",
   "nbconvert_exporter": "python",
   "pygments_lexer": "ipython3",
   "version": "3.7.9"
  }
 },
 "nbformat": 4,
 "nbformat_minor": 4
}
