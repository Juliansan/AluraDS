{
 "cells": [
  {
   "cell_type": "code",
   "execution_count": 1,
   "metadata": {},
   "outputs": [],
   "source": [
    "%config IPCompleter.greedy=True"
   ]
  },
  {
   "cell_type": "code",
   "execution_count": 2,
   "metadata": {},
   "outputs": [],
   "source": [
    "import pandas as pd\n",
    "import matplotlib.pyplot as plt\n",
    "import matplotlib.ticker as tick"
   ]
  },
  {
   "cell_type": "code",
   "execution_count": 3,
   "metadata": {},
   "outputs": [],
   "source": [
    "datasus = pd.read_csv(\"https://raw.githubusercontent.com/alura-cursos/agendamento-hospitalar/main/dados/A151346189_28_143_208.csv\"\n",
    "                      ,encoding='iso-8859-1',sep=';',skiprows=3,thousands='.',decimal=',')"
   ]
  },
  {
   "cell_type": "code",
   "execution_count": 4,
   "metadata": {},
   "outputs": [],
   "source": [
    "datasus = datasus.iloc[:27]"
   ]
  },
  {
   "cell_type": "code",
   "execution_count": 35,
   "metadata": {},
   "outputs": [
    {
     "data": {
      "text/plain": [
       "Unidade da Federação\n",
       "Rondônia                10285455,78\n",
       "Acre                              -\n",
       "Amazonas                14726443,67\n",
       "Roraima                  2826486,18\n",
       "Pará                    39911193,02\n",
       "Amapá                    2942273,94\n",
       "Tocantins                8240261,38\n",
       "Maranhão                28587541,78\n",
       "Piauí                   23210624,20\n",
       "Ceará                   59808605,59\n",
       "Rio Grande do Norte     24929930,72\n",
       "Paraíba                 22130016,81\n",
       "Pernambuco              75704177,72\n",
       "Alagoas                 19754741,78\n",
       "Sergipe                 11014180,89\n",
       "Bahia                   80793117,08\n",
       "Minas Gerais           168024412,95\n",
       "Espírito Santo          32188873,88\n",
       "Rio de Janeiro          95274486,35\n",
       "São Paulo              346512263,17\n",
       "Paraná                 129375911,54\n",
       "Santa Catarina          63972379,36\n",
       "Rio Grande do Sul      101374341,51\n",
       "Mato Grosso do Sul      19241624,02\n",
       "Mato Grosso             17790649,87\n",
       "Goiás                   43984702,05\n",
       "Distrito Federal        26526196,39\n",
       "Name: 2020/Ago, dtype: object"
      ]
     },
     "execution_count": 35,
     "metadata": {},
     "output_type": "execute_result"
    }
   ],
   "source": [
    "datasus[\"2020/Ago\"]"
   ]
  },
  {
   "cell_type": "code",
   "execution_count": 5,
   "metadata": {},
   "outputs": [],
   "source": [
    "datasus['Unidade da Federação'] = datasus['Unidade da Federação'].str.replace('\\d+.','')"
   ]
  },
  {
   "cell_type": "code",
   "execution_count": 6,
   "metadata": {},
   "outputs": [],
   "source": [
    "datasus = datasus.set_index('Unidade da Federação')"
   ]
  },
  {
   "cell_type": "code",
   "execution_count": 25,
   "metadata": {},
   "outputs": [],
   "source": [
    "# sns.set(font_scale=1.4)\n",
    "def reformat_large_tick_values(tick_val, pos):\n",
    "    \"\"\"\n",
    "    Turns large tick values (in the billions, millions and thousands) such as 4500 into 4.5K and also appropriately turns 4000 into 4K (no zero after the decimal).\n",
    "    \"\"\"\n",
    "    if tick_val >= 1000000000:\n",
    "        val = round(tick_val/1000000000, 1)\n",
    "        new_tick_format = '{:}B'.format(val)\n",
    "    elif tick_val >= 1000000:\n",
    "        val = round(tick_val/1000000, 1)\n",
    "        new_tick_format = '{:}M'.format(val)\n",
    "    elif tick_val >= 1000:\n",
    "        val = round(tick_val/1000, 1)\n",
    "        new_tick_format = '{:}K'.format(val)\n",
    "    elif tick_val < 1000:\n",
    "        new_tick_format = round(tick_val, 1)\n",
    "    else:\n",
    "        new_tick_format = tick_val\n",
    "\n",
    "    # make new_tick_format into a string value\n",
    "    new_tick_format = str(new_tick_format)\n",
    "    \n",
    "    # code below will keep 4.5M as is but change values such as 4.0M to 4M since that zero after the decimal isn't needed\n",
    "    index_of_decimal = new_tick_format.find(\".\")\n",
    "    \n",
    "    if index_of_decimal != -1:\n",
    "        value_after_decimal = new_tick_format[index_of_decimal+1]\n",
    "        if value_after_decimal == \"0\":\n",
    "            # remove the 0 after the decimal point since it's not needed\n",
    "            new_tick_format = new_tick_format[0:index_of_decimal] + new_tick_format[index_of_decimal+2:]\n",
    "            \n",
    "    return new_tick_format"
   ]
  },
  {
   "cell_type": "code",
   "execution_count": 30,
   "metadata": {},
   "outputs": [
    {
     "data": {
      "text/html": [
       "<div>\n",
       "<style scoped>\n",
       "    .dataframe tbody tr th:only-of-type {\n",
       "        vertical-align: middle;\n",
       "    }\n",
       "\n",
       "    .dataframe tbody tr th {\n",
       "        vertical-align: top;\n",
       "    }\n",
       "\n",
       "    .dataframe thead th {\n",
       "        text-align: right;\n",
       "    }\n",
       "</style>\n",
       "<table border=\"1\" class=\"dataframe\">\n",
       "  <thead>\n",
       "    <tr style=\"text-align: right;\">\n",
       "      <th></th>\n",
       "      <th>2008/Jan</th>\n",
       "      <th>2008/Fev</th>\n",
       "      <th>2008/Mar</th>\n",
       "      <th>2008/Abr</th>\n",
       "      <th>2008/Mai</th>\n",
       "      <th>2008/Jun</th>\n",
       "      <th>2008/Jul</th>\n",
       "      <th>2008/Ago</th>\n",
       "      <th>2008/Set</th>\n",
       "      <th>2008/Out</th>\n",
       "      <th>...</th>\n",
       "      <th>2019/Dez</th>\n",
       "      <th>2020/Jan</th>\n",
       "      <th>2020/Fev</th>\n",
       "      <th>2020/Mar</th>\n",
       "      <th>2020/Abr</th>\n",
       "      <th>2020/Mai</th>\n",
       "      <th>2020/Jun</th>\n",
       "      <th>2020/Jul</th>\n",
       "      <th>2020/Ago</th>\n",
       "      <th>Total</th>\n",
       "    </tr>\n",
       "    <tr>\n",
       "      <th>Unidade da Federação</th>\n",
       "      <th></th>\n",
       "      <th></th>\n",
       "      <th></th>\n",
       "      <th></th>\n",
       "      <th></th>\n",
       "      <th></th>\n",
       "      <th></th>\n",
       "      <th></th>\n",
       "      <th></th>\n",
       "      <th></th>\n",
       "      <th></th>\n",
       "      <th></th>\n",
       "      <th></th>\n",
       "      <th></th>\n",
       "      <th></th>\n",
       "      <th></th>\n",
       "      <th></th>\n",
       "      <th></th>\n",
       "      <th></th>\n",
       "      <th></th>\n",
       "      <th></th>\n",
       "    </tr>\n",
       "  </thead>\n",
       "  <tbody>\n",
       "    <tr>\n",
       "      <th>Rondônia</th>\n",
       "      <td>1388528.39</td>\n",
       "      <td>2931283.42</td>\n",
       "      <td>1541682.52</td>\n",
       "      <td>1525314.96</td>\n",
       "      <td>1645953.84</td>\n",
       "      <td>1406150.68</td>\n",
       "      <td>3065279.01</td>\n",
       "      <td>3231494.61</td>\n",
       "      <td>3117178.63</td>\n",
       "      <td>3068430.44</td>\n",
       "      <td>...</td>\n",
       "      <td>8085025.66</td>\n",
       "      <td>9221412.18</td>\n",
       "      <td>7493310.88</td>\n",
       "      <td>8092260.11</td>\n",
       "      <td>7273843.63</td>\n",
       "      <td>7652120.28</td>\n",
       "      <td>8725530.68</td>\n",
       "      <td>11152107.08</td>\n",
       "      <td>10285455,78</td>\n",
       "      <td>9.291297e+08</td>\n",
       "    </tr>\n",
       "    <tr>\n",
       "      <th>Acre</th>\n",
       "      <td>902416.00</td>\n",
       "      <td>1497206.26</td>\n",
       "      <td>1794028.48</td>\n",
       "      <td>1730469.42</td>\n",
       "      <td>1819443.92</td>\n",
       "      <td>1828496.00</td>\n",
       "      <td>2511754.59</td>\n",
       "      <td>2089107.14</td>\n",
       "      <td>2275708.53</td>\n",
       "      <td>1923886.57</td>\n",
       "      <td>...</td>\n",
       "      <td>2874871.28</td>\n",
       "      <td>3331803.55</td>\n",
       "      <td>3417691.07</td>\n",
       "      <td>3076003.20</td>\n",
       "      <td>2286642.60</td>\n",
       "      <td>2896340.24</td>\n",
       "      <td>3045245.80</td>\n",
       "      <td>3915193.20</td>\n",
       "      <td>-</td>\n",
       "      <td>4.206680e+08</td>\n",
       "    </tr>\n",
       "    <tr>\n",
       "      <th>Amazonas</th>\n",
       "      <td>4735529.42</td>\n",
       "      <td>7118990.57</td>\n",
       "      <td>8196635.49</td>\n",
       "      <td>8259378.42</td>\n",
       "      <td>7831399.90</td>\n",
       "      <td>8477273.62</td>\n",
       "      <td>9368858.72</td>\n",
       "      <td>9352532.70</td>\n",
       "      <td>9363099.35</td>\n",
       "      <td>8618318.83</td>\n",
       "      <td>...</td>\n",
       "      <td>14346553.60</td>\n",
       "      <td>16018459.07</td>\n",
       "      <td>14913745.37</td>\n",
       "      <td>15068304.35</td>\n",
       "      <td>13509579.29</td>\n",
       "      <td>19658585.46</td>\n",
       "      <td>20897542.93</td>\n",
       "      <td>19346450.18</td>\n",
       "      <td>14726443,67</td>\n",
       "      <td>1.771655e+09</td>\n",
       "    </tr>\n",
       "    <tr>\n",
       "      <th>Roraima</th>\n",
       "      <td>657889.53</td>\n",
       "      <td>777939.31</td>\n",
       "      <td>718688.03</td>\n",
       "      <td>839994.39</td>\n",
       "      <td>862347.96</td>\n",
       "      <td>832440.66</td>\n",
       "      <td>996693.09</td>\n",
       "      <td>894271.18</td>\n",
       "      <td>910424.17</td>\n",
       "      <td>1191770.32</td>\n",
       "      <td>...</td>\n",
       "      <td>3097113.21</td>\n",
       "      <td>3059823.80</td>\n",
       "      <td>2912519.98</td>\n",
       "      <td>2937346.43</td>\n",
       "      <td>2868820.96</td>\n",
       "      <td>2752228.26</td>\n",
       "      <td>3401864.29</td>\n",
       "      <td>3015488.30</td>\n",
       "      <td>2826486,18</td>\n",
       "      <td>3.050109e+08</td>\n",
       "    </tr>\n",
       "    <tr>\n",
       "      <th>Pará</th>\n",
       "      <td>18864744.11</td>\n",
       "      <td>19553758.20</td>\n",
       "      <td>21937342.70</td>\n",
       "      <td>20842829.69</td>\n",
       "      <td>23249952.88</td>\n",
       "      <td>23240687.56</td>\n",
       "      <td>24002223.56</td>\n",
       "      <td>23341218.03</td>\n",
       "      <td>25172261.32</td>\n",
       "      <td>24011712.48</td>\n",
       "      <td>...</td>\n",
       "      <td>35925899.01</td>\n",
       "      <td>34345207.63</td>\n",
       "      <td>37384336.94</td>\n",
       "      <td>35512568.15</td>\n",
       "      <td>28217249.66</td>\n",
       "      <td>32617541.05</td>\n",
       "      <td>41625331.28</td>\n",
       "      <td>38438873.79</td>\n",
       "      <td>39911193,02</td>\n",
       "      <td>4.437116e+09</td>\n",
       "    </tr>\n",
       "  </tbody>\n",
       "</table>\n",
       "<p>5 rows × 153 columns</p>\n",
       "</div>"
      ],
      "text/plain": [
       "                         2008/Jan     2008/Fev     2008/Mar     2008/Abr  \\\n",
       "Unidade da Federação                                                       \n",
       "Rondônia               1388528.39   2931283.42   1541682.52   1525314.96   \n",
       "Acre                    902416.00   1497206.26   1794028.48   1730469.42   \n",
       "Amazonas               4735529.42   7118990.57   8196635.49   8259378.42   \n",
       "Roraima                 657889.53    777939.31    718688.03    839994.39   \n",
       "Pará                  18864744.11  19553758.20  21937342.70  20842829.69   \n",
       "\n",
       "                         2008/Mai     2008/Jun     2008/Jul     2008/Ago  \\\n",
       "Unidade da Federação                                                       \n",
       "Rondônia               1645953.84   1406150.68   3065279.01   3231494.61   \n",
       "Acre                   1819443.92   1828496.00   2511754.59   2089107.14   \n",
       "Amazonas               7831399.90   8477273.62   9368858.72   9352532.70   \n",
       "Roraima                 862347.96    832440.66    996693.09    894271.18   \n",
       "Pará                  23249952.88  23240687.56  24002223.56  23341218.03   \n",
       "\n",
       "                         2008/Set     2008/Out  ...     2019/Dez     2020/Jan  \\\n",
       "Unidade da Federação                            ...                             \n",
       "Rondônia               3117178.63   3068430.44  ...   8085025.66   9221412.18   \n",
       "Acre                   2275708.53   1923886.57  ...   2874871.28   3331803.55   \n",
       "Amazonas               9363099.35   8618318.83  ...  14346553.60  16018459.07   \n",
       "Roraima                 910424.17   1191770.32  ...   3097113.21   3059823.80   \n",
       "Pará                  25172261.32  24011712.48  ...  35925899.01  34345207.63   \n",
       "\n",
       "                         2020/Fev     2020/Mar     2020/Abr     2020/Mai  \\\n",
       "Unidade da Federação                                                       \n",
       "Rondônia               7493310.88   8092260.11   7273843.63   7652120.28   \n",
       "Acre                   3417691.07   3076003.20   2286642.60   2896340.24   \n",
       "Amazonas              14913745.37  15068304.35  13509579.29  19658585.46   \n",
       "Roraima                2912519.98   2937346.43   2868820.96   2752228.26   \n",
       "Pará                  37384336.94  35512568.15  28217249.66  32617541.05   \n",
       "\n",
       "                         2020/Jun     2020/Jul     2020/Ago         Total  \n",
       "Unidade da Federação                                                       \n",
       "Rondônia               8725530.68  11152107.08  10285455,78  9.291297e+08  \n",
       "Acre                   3045245.80   3915193.20            -  4.206680e+08  \n",
       "Amazonas              20897542.93  19346450.18  14726443,67  1.771655e+09  \n",
       "Roraima                3401864.29   3015488.30   2826486,18  3.050109e+08  \n",
       "Pará                  41625331.28  38438873.79  39911193,02  4.437116e+09  \n",
       "\n",
       "[5 rows x 153 columns]"
      ]
     },
     "execution_count": 30,
     "metadata": {},
     "output_type": "execute_result"
    }
   ],
   "source": [
    "datasus.head()"
   ]
  },
  {
   "cell_type": "code",
   "execution_count": 47,
   "metadata": {},
   "outputs": [
    {
     "data": {
      "image/png": "[encoded data removed]",
      "text/plain": [
       "<Figure size 864x504 with 1 Axes>"
      ]
     },
     "metadata": {
      "needs_background": "light"
     },
     "output_type": "display_data"
    }
   ],
   "source": [
    "datasus[\"2008/Ago\"].sort_values(ascending=False).plot(kind='bar',figsize=(12,7))\n",
    "plt.title(\"Gastos em procedimentos por Estado\", y=1.02, fontsize=22)\n",
    "plt.legend()\n",
    "ax = plt.gca()\n",
    "ax.yaxis.set_major_formatter(tick.FuncFormatter(reformat_large_tick_values))\n",
    "plt.show()"
   ]
  },
  {
   "cell_type": "code",
   "execution_count": 44,
   "metadata": {},
   "outputs": [],
   "source": [
    "datasus[\"2020/Ago\"] = datasus[\"2020/Ago\"].apply(lambda x: x.replace('-','0').replace(',','.')).astype('float')"
   ]
  },
  {
   "cell_type": "code",
   "execution_count": 46,
   "metadata": {},
   "outputs": [
    {
     "data": {
      "image/png": "[encoded data removed]",
      "text/plain": [
       "<Figure size 720x432 with 1 Axes>"
      ]
     },
     "metadata": {
      "needs_background": "light"
     },
     "output_type": "display_data"
    }
   ],
   "source": [
    "datasus[\"2020/Ago\"].sort_values(ascending=False).plot(kind='bar',figsize=(10,6))\n",
    "plt.title(\"Gastos em procedimentos por Estado\", y=1.02, fontsize=22)\n",
    "plt.legend()\n",
    "ax = plt.gca()\n",
    "ax.yaxis.set_major_formatter(tick.FuncFormatter(reformat_large_tick_values))\n",
    "plt.show()"
   ]
  },
  {
   "cell_type": "code",
   "execution_count": null,
   "metadata": {},
   "outputs": [],
   "source": []
  },
  {
   "cell_type": "code",
   "execution_count": null,
   "metadata": {},
   "outputs": [],
   "source": []
  },
  {
   "cell_type": "code",
   "execution_count": null,
   "metadata": {},
   "outputs": [],
   "source": []
  }
 ],
 "metadata": {
  "kernelspec": {
   "display_name": "Python 3",
   "language": "python",
   "name": "python3"
  },
  "language_info": {
   "codemirror_mode": {
    "name": "ipython",
    "version": 3
   },
   "file_extension": ".py",
   "mimetype": "text/x-python",
   "name": "python",
   "nbconvert_exporter": "python",
   "pygments_lexer": "ipython3",
   "version": "3.8.3"
  }
 },
 "nbformat": 4,
 "nbformat_minor": 4
}
