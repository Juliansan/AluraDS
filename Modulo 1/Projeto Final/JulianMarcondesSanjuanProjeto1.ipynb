{
 "cells": [
  {
   "cell_type": "code",
   "execution_count": 1,
   "metadata": {},
   "outputs": [],
   "source": [
    "%config IPCompleter.greedy=True"
   ]
  },
  {
   "cell_type": "code",
   "execution_count": 2,
   "metadata": {},
   "outputs": [],
   "source": [
    "import pandas as pd\n",
    "import matplotlib.pyplot as plt\n",
    "import matplotlib.ticker as tick\n",
    "import numpy as np"
   ]
  },
  {
   "cell_type": "code",
   "execution_count": 3,
   "metadata": {},
   "outputs": [],
   "source": [
    "pd.options.display.float_format = \"{:.2f}\".format"
   ]
  },
  {
   "cell_type": "code",
   "execution_count": null,
   "metadata": {},
   "outputs": [],
   "source": [
    "#plt.style.use('seaborn')"
   ]
  },
  {
   "cell_type": "markdown",
   "metadata": {
    "id": "E27fQer3E8K9"
   },
   "source": [
    "Olá **Cientista**!\n",
    "\n",
    "Bem vinda e bem vindo ao **mega desafio do Módulo 01**, neste desafio queremos que você aplique tudo que aprendeu no curso, analisando uma outra informação ~~referente a base de dados de [produção hospitalar](http://www2.datasus.gov.br/DATASUS/index.php?area=0202&id=11633&VObj=http://tabnet.datasus.gov.br/cgi/deftohtm.exe?sih/cnv/qi), seja número de internação, óbito, AIH ou taxa de mortalidade.~~ \n",
    "\n",
    "**P.S: Infelizmente o DataSUS está fora do ar por tempo indeterminado, para você não parar seu projeto, adicionamos no [GitHub](https://github.com/alura-cursos/agendamento-hospitalar/tree/main/dados) do curso, duas novas bases para você utilizar neste projeto (COVID-19 e Óbitos).**\n",
    "\n",
    "Uma base é dos **casos de COVID-19 baixadas do projeto [BRASIL.IO](https://brasil.io/dataset/covid19/caso/)**, outra são os números de óbitos registrados no cartório civil desde 1970 retirado do **[Kaggle](https://www.kaggle.com/amandalk/registered-deaths-brazil)**.\n",
    "\n",
    "Vocês podem escolher qualquer uma das duas bases de dados, a de COVID-19 é mais desafiadora e você vai precisar descompactar o arquivo por ser grande e entrar no site do Brasil.IO para entender todas as features presentes (No Brasil.IO tem diversas bases sobre COVID-19, estamos usando a chamada **Casos**). A base de óbito é mais simples e relativamente semelhate a utilizada no curso.\n",
    "\n",
    "Algumas dicas para você mandar bem no desafio final, capriche nas análises, escreva suas conclusões e hipóteses (mesmo que resultado seja inconclusivo) e não esqueça de colocar um resumo dos pontos que julgar mais interessantes do seu projeto.\n",
    "\n",
    "\n",
    "\n",
    "E para que o seu projeto tenha a oportunidade de ser avalido pelo Thiago G. Santos e Átila Iamarino, ao vivo na **live de revisão de projetos** submeta o link compartilhado do seu notebook [neste formulário](https://docs.google.com/forms/d/e/1FAIpQLSd1jemhvdo8sM6e-bgOryyZ2P3YuMO6E_mUQXabyBX_xhuZQQ/viewform?usp=sf_link) até dia 22/11 às 23h59.\n",
    "\n",
    "Para facilitar a vida dos seus instrutores favoritos, no momento da correção, algumas dicas de como estruturar seu projeto:\n",
    "\n",
    "- Como título do seu **Colab** coloque seu nome (Ex: Thiago_Gonçalves.ipynb)\n",
    "- Crie um resumo das suas análises na parte superior do notebook\n",
    "- Informe no resumo os dados que vc vai analisar (Ex: Finaceiros e Internações)\n",
    "\n",
    "Qualquer dúvida não deixe de perguntar no Discord, compatilhe seu projeto nas redes sociais e crie um repositório no github, esse é o início do seu portifólio em Data Science.\n",
    "\n",
    "\n",
    "\n",
    "Fique a vontade para utilizar esse notebook como template projeto.\n",
    "\n"
   ]
  },
  {
   "cell_type": "markdown",
   "metadata": {
    "id": "RshO3GgDFGhB"
   },
   "source": [
    "## Resumo:\n",
    "\n",
    "Faça aqui o resumo das suas analises, destacando os pontos principais do seu projeto"
   ]
  },
  {
   "cell_type": "code",
   "execution_count": null,
   "metadata": {
    "id": "BUHuWTjaFGMV"
   },
   "outputs": [],
   "source": []
  },
  {
   "cell_type": "markdown",
   "metadata": {
    "id": "YJaNprdeFN7n"
   },
   "source": [
    "## Análise dos dados:\n",
    "\n",
    "Inicie aqui o desenvolvimento do seu projeto, não esqueça de adicionar textos curtos e objetivos para que os avaliadores entendam sua linha de raciocínio e as conclusões que você está chegando crie uma narrativa convincente e coerênte aos dados analisados."
   ]
  },
  {
   "cell_type": "code",
   "execution_count": 4,
   "metadata": {
    "id": "zw4S_LkkFNa2"
   },
   "outputs": [],
   "source": [
    "covid = pd.read_csv(\"caso.csv\"\n",
    "                      ,encoding='UTF-8',sep=',')"
   ]
  },
  {
   "cell_type": "code",
   "execution_count": 5,
   "metadata": {
    "id": "wWHrc23HMW07"
   },
   "outputs": [
    {
     "data": {
      "text/html": [
       "<div>\n",
       "<style scoped>\n",
       "    .dataframe tbody tr th:only-of-type {\n",
       "        vertical-align: middle;\n",
       "    }\n",
       "\n",
       "    .dataframe tbody tr th {\n",
       "        vertical-align: top;\n",
       "    }\n",
       "\n",
       "    .dataframe thead th {\n",
       "        text-align: right;\n",
       "    }\n",
       "</style>\n",
       "<table border=\"1\" class=\"dataframe\">\n",
       "  <thead>\n",
       "    <tr style=\"text-align: right;\">\n",
       "      <th></th>\n",
       "      <th>date</th>\n",
       "      <th>state</th>\n",
       "      <th>city</th>\n",
       "      <th>place_type</th>\n",
       "      <th>confirmed</th>\n",
       "      <th>deaths</th>\n",
       "      <th>order_for_place</th>\n",
       "      <th>is_last</th>\n",
       "      <th>estimated_population_2019</th>\n",
       "      <th>estimated_population</th>\n",
       "      <th>city_ibge_code</th>\n",
       "      <th>confirmed_per_100k_inhabitants</th>\n",
       "      <th>death_rate</th>\n",
       "    </tr>\n",
       "  </thead>\n",
       "  <tbody>\n",
       "    <tr>\n",
       "      <th>0</th>\n",
       "      <td>2020-11-05</td>\n",
       "      <td>AC</td>\n",
       "      <td>NaN</td>\n",
       "      <td>state</td>\n",
       "      <td>31248</td>\n",
       "      <td>697</td>\n",
       "      <td>234</td>\n",
       "      <td>True</td>\n",
       "      <td>881935.00</td>\n",
       "      <td>894470.00</td>\n",
       "      <td>12.00</td>\n",
       "      <td>3493.47</td>\n",
       "      <td>0.02</td>\n",
       "    </tr>\n",
       "    <tr>\n",
       "      <th>1</th>\n",
       "      <td>2020-11-04</td>\n",
       "      <td>AC</td>\n",
       "      <td>NaN</td>\n",
       "      <td>state</td>\n",
       "      <td>31218</td>\n",
       "      <td>696</td>\n",
       "      <td>233</td>\n",
       "      <td>False</td>\n",
       "      <td>881935.00</td>\n",
       "      <td>894470.00</td>\n",
       "      <td>12.00</td>\n",
       "      <td>3490.11</td>\n",
       "      <td>0.02</td>\n",
       "    </tr>\n",
       "    <tr>\n",
       "      <th>2</th>\n",
       "      <td>2020-11-03</td>\n",
       "      <td>AC</td>\n",
       "      <td>NaN</td>\n",
       "      <td>state</td>\n",
       "      <td>30962</td>\n",
       "      <td>695</td>\n",
       "      <td>232</td>\n",
       "      <td>False</td>\n",
       "      <td>881935.00</td>\n",
       "      <td>894470.00</td>\n",
       "      <td>12.00</td>\n",
       "      <td>3461.49</td>\n",
       "      <td>0.02</td>\n",
       "    </tr>\n",
       "    <tr>\n",
       "      <th>3</th>\n",
       "      <td>2020-11-02</td>\n",
       "      <td>AC</td>\n",
       "      <td>NaN</td>\n",
       "      <td>state</td>\n",
       "      <td>30954</td>\n",
       "      <td>693</td>\n",
       "      <td>231</td>\n",
       "      <td>False</td>\n",
       "      <td>881935.00</td>\n",
       "      <td>894470.00</td>\n",
       "      <td>12.00</td>\n",
       "      <td>3460.60</td>\n",
       "      <td>0.02</td>\n",
       "    </tr>\n",
       "    <tr>\n",
       "      <th>4</th>\n",
       "      <td>2020-11-01</td>\n",
       "      <td>AC</td>\n",
       "      <td>NaN</td>\n",
       "      <td>state</td>\n",
       "      <td>30951</td>\n",
       "      <td>693</td>\n",
       "      <td>230</td>\n",
       "      <td>False</td>\n",
       "      <td>881935.00</td>\n",
       "      <td>894470.00</td>\n",
       "      <td>12.00</td>\n",
       "      <td>3460.26</td>\n",
       "      <td>0.02</td>\n",
       "    </tr>\n",
       "  </tbody>\n",
       "</table>\n",
       "</div>"
      ],
      "text/plain": [
       "         date state city place_type  confirmed  deaths  order_for_place  \\\n",
       "0  2020-11-05    AC  NaN      state      31248     697              234   \n",
       "1  2020-11-04    AC  NaN      state      31218     696              233   \n",
       "2  2020-11-03    AC  NaN      state      30962     695              232   \n",
       "3  2020-11-02    AC  NaN      state      30954     693              231   \n",
       "4  2020-11-01    AC  NaN      state      30951     693              230   \n",
       "\n",
       "   is_last  estimated_population_2019  estimated_population  city_ibge_code  \\\n",
       "0     True                  881935.00             894470.00           12.00   \n",
       "1    False                  881935.00             894470.00           12.00   \n",
       "2    False                  881935.00             894470.00           12.00   \n",
       "3    False                  881935.00             894470.00           12.00   \n",
       "4    False                  881935.00             894470.00           12.00   \n",
       "\n",
       "   confirmed_per_100k_inhabitants  death_rate  \n",
       "0                         3493.47        0.02  \n",
       "1                         3490.11        0.02  \n",
       "2                         3461.49        0.02  \n",
       "3                         3460.60        0.02  \n",
       "4                         3460.26        0.02  "
      ]
     },
     "execution_count": 5,
     "metadata": {},
     "output_type": "execute_result"
    }
   ],
   "source": [
    "covid.head()"
   ]
  },
  {
   "cell_type": "code",
   "execution_count": 6,
   "metadata": {},
   "outputs": [],
   "source": [
    "covid['date'] = pd.to_datetime(covid['date'])"
   ]
  },
  {
   "cell_type": "code",
   "execution_count": 7,
   "metadata": {},
   "outputs": [],
   "source": [
    "covid['day'] = covid['date'].dt.day"
   ]
  },
  {
   "cell_type": "code",
   "execution_count": 8,
   "metadata": {},
   "outputs": [],
   "source": [
    "covid['month'] = covid['date'].dt.month"
   ]
  },
  {
   "cell_type": "code",
   "execution_count": 9,
   "metadata": {},
   "outputs": [],
   "source": [
    "covid['year'] = covid['date'].dt.year"
   ]
  },
  {
   "cell_type": "code",
   "execution_count": 10,
   "metadata": {},
   "outputs": [],
   "source": [
    "columns = ['date','day','month','year','state','city','place_type','confirmed','deaths','order_for_place','is_last','estimated_population_2019','estimated_population','city_ibge_code','confirmed_per_100k_inhabitants','death_rate']"
   ]
  },
  {
   "cell_type": "code",
   "execution_count": 11,
   "metadata": {},
   "outputs": [],
   "source": [
    "covid = covid[columns]"
   ]
  },
  {
   "cell_type": "code",
   "execution_count": 12,
   "metadata": {},
   "outputs": [
    {
     "data": {
      "text/plain": [
       "array(['state', 'city'], dtype=object)"
      ]
     },
     "execution_count": 12,
     "metadata": {},
     "output_type": "execute_result"
    }
   ],
   "source": [
    "covid.place_type.unique()"
   ]
  },
  {
   "cell_type": "code",
   "execution_count": 13,
   "metadata": {},
   "outputs": [],
   "source": [
    "covid_city = covid[covid['place_type'] == 'city']\n",
    "covid_state = covid[covid['place_type'] == 'state']"
   ]
  },
  {
   "cell_type": "code",
   "execution_count": 14,
   "metadata": {},
   "outputs": [],
   "source": [
    "df = covid_state.copy()"
   ]
  },
  {
   "cell_type": "code",
   "execution_count": 15,
   "metadata": {},
   "outputs": [],
   "source": [
    "df.drop(columns=['place_type','order_for_place','city'],inplace=True)"
   ]
  },
  {
   "cell_type": "code",
   "execution_count": 16,
   "metadata": {},
   "outputs": [],
   "source": [
    "#sp = df[df['state'] == 'SP']\n",
    "new_df = df.copy()"
   ]
  },
  {
   "cell_type": "code",
   "execution_count": 17,
   "metadata": {},
   "outputs": [
    {
     "data": {
      "text/html": [
       "<div>\n",
       "<style scoped>\n",
       "    .dataframe tbody tr th:only-of-type {\n",
       "        vertical-align: middle;\n",
       "    }\n",
       "\n",
       "    .dataframe tbody tr th {\n",
       "        vertical-align: top;\n",
       "    }\n",
       "\n",
       "    .dataframe thead th {\n",
       "        text-align: right;\n",
       "    }\n",
       "</style>\n",
       "<table border=\"1\" class=\"dataframe\">\n",
       "  <thead>\n",
       "    <tr style=\"text-align: right;\">\n",
       "      <th></th>\n",
       "      <th>date</th>\n",
       "      <th>day</th>\n",
       "      <th>month</th>\n",
       "      <th>year</th>\n",
       "      <th>state</th>\n",
       "      <th>confirmed</th>\n",
       "      <th>deaths</th>\n",
       "      <th>is_last</th>\n",
       "      <th>estimated_population_2019</th>\n",
       "      <th>estimated_population</th>\n",
       "      <th>city_ibge_code</th>\n",
       "      <th>confirmed_per_100k_inhabitants</th>\n",
       "      <th>death_rate</th>\n",
       "    </tr>\n",
       "  </thead>\n",
       "  <tbody>\n",
       "    <tr>\n",
       "      <th>0</th>\n",
       "      <td>2020-11-05</td>\n",
       "      <td>5</td>\n",
       "      <td>11</td>\n",
       "      <td>2020</td>\n",
       "      <td>AC</td>\n",
       "      <td>31248</td>\n",
       "      <td>697</td>\n",
       "      <td>True</td>\n",
       "      <td>881935.00</td>\n",
       "      <td>894470.00</td>\n",
       "      <td>12.00</td>\n",
       "      <td>3493.47</td>\n",
       "      <td>0.02</td>\n",
       "    </tr>\n",
       "    <tr>\n",
       "      <th>1</th>\n",
       "      <td>2020-11-04</td>\n",
       "      <td>4</td>\n",
       "      <td>11</td>\n",
       "      <td>2020</td>\n",
       "      <td>AC</td>\n",
       "      <td>31218</td>\n",
       "      <td>696</td>\n",
       "      <td>False</td>\n",
       "      <td>881935.00</td>\n",
       "      <td>894470.00</td>\n",
       "      <td>12.00</td>\n",
       "      <td>3490.11</td>\n",
       "      <td>0.02</td>\n",
       "    </tr>\n",
       "    <tr>\n",
       "      <th>2</th>\n",
       "      <td>2020-11-03</td>\n",
       "      <td>3</td>\n",
       "      <td>11</td>\n",
       "      <td>2020</td>\n",
       "      <td>AC</td>\n",
       "      <td>30962</td>\n",
       "      <td>695</td>\n",
       "      <td>False</td>\n",
       "      <td>881935.00</td>\n",
       "      <td>894470.00</td>\n",
       "      <td>12.00</td>\n",
       "      <td>3461.49</td>\n",
       "      <td>0.02</td>\n",
       "    </tr>\n",
       "    <tr>\n",
       "      <th>3</th>\n",
       "      <td>2020-11-02</td>\n",
       "      <td>2</td>\n",
       "      <td>11</td>\n",
       "      <td>2020</td>\n",
       "      <td>AC</td>\n",
       "      <td>30954</td>\n",
       "      <td>693</td>\n",
       "      <td>False</td>\n",
       "      <td>881935.00</td>\n",
       "      <td>894470.00</td>\n",
       "      <td>12.00</td>\n",
       "      <td>3460.60</td>\n",
       "      <td>0.02</td>\n",
       "    </tr>\n",
       "    <tr>\n",
       "      <th>4</th>\n",
       "      <td>2020-11-01</td>\n",
       "      <td>1</td>\n",
       "      <td>11</td>\n",
       "      <td>2020</td>\n",
       "      <td>AC</td>\n",
       "      <td>30951</td>\n",
       "      <td>693</td>\n",
       "      <td>False</td>\n",
       "      <td>881935.00</td>\n",
       "      <td>894470.00</td>\n",
       "      <td>12.00</td>\n",
       "      <td>3460.26</td>\n",
       "      <td>0.02</td>\n",
       "    </tr>\n",
       "  </tbody>\n",
       "</table>\n",
       "</div>"
      ],
      "text/plain": [
       "        date  day  month  year state  confirmed  deaths  is_last  \\\n",
       "0 2020-11-05    5     11  2020    AC      31248     697     True   \n",
       "1 2020-11-04    4     11  2020    AC      31218     696    False   \n",
       "2 2020-11-03    3     11  2020    AC      30962     695    False   \n",
       "3 2020-11-02    2     11  2020    AC      30954     693    False   \n",
       "4 2020-11-01    1     11  2020    AC      30951     693    False   \n",
       "\n",
       "   estimated_population_2019  estimated_population  city_ibge_code  \\\n",
       "0                  881935.00             894470.00           12.00   \n",
       "1                  881935.00             894470.00           12.00   \n",
       "2                  881935.00             894470.00           12.00   \n",
       "3                  881935.00             894470.00           12.00   \n",
       "4                  881935.00             894470.00           12.00   \n",
       "\n",
       "   confirmed_per_100k_inhabitants  death_rate  \n",
       "0                         3493.47        0.02  \n",
       "1                         3490.11        0.02  \n",
       "2                         3461.49        0.02  \n",
       "3                         3460.60        0.02  \n",
       "4                         3460.26        0.02  "
      ]
     },
     "execution_count": 17,
     "metadata": {},
     "output_type": "execute_result"
    }
   ],
   "source": [
    "df[df['state'] == 'AC'].head()"
   ]
  },
  {
   "cell_type": "markdown",
   "metadata": {},
   "source": [
    "# Ultima postagem Ratio de Mortes por Estado"
   ]
  },
  {
   "cell_type": "code",
   "execution_count": 18,
   "metadata": {},
   "outputs": [],
   "source": [
    "new_df = new_df[new_df['is_last'] == True].sort_values(by='death_rate')"
   ]
  },
  {
   "cell_type": "code",
   "execution_count": 19,
   "metadata": {},
   "outputs": [
    {
     "data": {
      "text/html": [
       "<div>\n",
       "<style scoped>\n",
       "    .dataframe tbody tr th:only-of-type {\n",
       "        vertical-align: middle;\n",
       "    }\n",
       "\n",
       "    .dataframe tbody tr th {\n",
       "        vertical-align: top;\n",
       "    }\n",
       "\n",
       "    .dataframe thead th {\n",
       "        text-align: right;\n",
       "    }\n",
       "</style>\n",
       "<table border=\"1\" class=\"dataframe\">\n",
       "  <thead>\n",
       "    <tr style=\"text-align: right;\">\n",
       "      <th></th>\n",
       "      <th>date</th>\n",
       "      <th>day</th>\n",
       "      <th>month</th>\n",
       "      <th>year</th>\n",
       "      <th>state</th>\n",
       "      <th>confirmed</th>\n",
       "      <th>deaths</th>\n",
       "      <th>is_last</th>\n",
       "      <th>estimated_population_2019</th>\n",
       "      <th>estimated_population</th>\n",
       "      <th>city_ibge_code</th>\n",
       "      <th>confirmed_per_100k_inhabitants</th>\n",
       "      <th>death_rate</th>\n",
       "    </tr>\n",
       "  </thead>\n",
       "  <tbody>\n",
       "    <tr>\n",
       "      <th>668623</th>\n",
       "      <td>2020-11-05</td>\n",
       "      <td>5</td>\n",
       "      <td>11</td>\n",
       "      <td>2020</td>\n",
       "      <td>SC</td>\n",
       "      <td>268644</td>\n",
       "      <td>3173</td>\n",
       "      <td>True</td>\n",
       "      <td>7164788.00</td>\n",
       "      <td>7252502.00</td>\n",
       "      <td>42.00</td>\n",
       "      <td>3704.16</td>\n",
       "      <td>0.01</td>\n",
       "    </tr>\n",
       "    <tr>\n",
       "      <th>651937</th>\n",
       "      <td>2020-11-04</td>\n",
       "      <td>4</td>\n",
       "      <td>11</td>\n",
       "      <td>2020</td>\n",
       "      <td>RR</td>\n",
       "      <td>58304</td>\n",
       "      <td>695</td>\n",
       "      <td>True</td>\n",
       "      <td>605761.00</td>\n",
       "      <td>631181.00</td>\n",
       "      <td>14.00</td>\n",
       "      <td>9237.29</td>\n",
       "      <td>0.01</td>\n",
       "    </tr>\n",
       "    <tr>\n",
       "      <th>4247</th>\n",
       "      <td>2020-11-03</td>\n",
       "      <td>3</td>\n",
       "      <td>11</td>\n",
       "      <td>2020</td>\n",
       "      <td>AP</td>\n",
       "      <td>52832</td>\n",
       "      <td>751</td>\n",
       "      <td>True</td>\n",
       "      <td>845731.00</td>\n",
       "      <td>861773.00</td>\n",
       "      <td>16.00</td>\n",
       "      <td>6130.62</td>\n",
       "      <td>0.01</td>\n",
       "    </tr>\n",
       "    <tr>\n",
       "      <th>802533</th>\n",
       "      <td>2020-11-04</td>\n",
       "      <td>4</td>\n",
       "      <td>11</td>\n",
       "      <td>2020</td>\n",
       "      <td>TO</td>\n",
       "      <td>76175</td>\n",
       "      <td>1108</td>\n",
       "      <td>True</td>\n",
       "      <td>1572866.00</td>\n",
       "      <td>1590248.00</td>\n",
       "      <td>17.00</td>\n",
       "      <td>4790.13</td>\n",
       "      <td>0.01</td>\n",
       "    </tr>\n",
       "    <tr>\n",
       "      <th>38885</th>\n",
       "      <td>2020-11-05</td>\n",
       "      <td>5</td>\n",
       "      <td>11</td>\n",
       "      <td>2020</td>\n",
       "      <td>DF</td>\n",
       "      <td>214955</td>\n",
       "      <td>3728</td>\n",
       "      <td>True</td>\n",
       "      <td>3015268.00</td>\n",
       "      <td>3055149.00</td>\n",
       "      <td>53.00</td>\n",
       "      <td>7035.83</td>\n",
       "      <td>0.02</td>\n",
       "    </tr>\n",
       "  </tbody>\n",
       "</table>\n",
       "</div>"
      ],
      "text/plain": [
       "             date  day  month  year state  confirmed  deaths  is_last  \\\n",
       "668623 2020-11-05    5     11  2020    SC     268644    3173     True   \n",
       "651937 2020-11-04    4     11  2020    RR      58304     695     True   \n",
       "4247   2020-11-03    3     11  2020    AP      52832     751     True   \n",
       "802533 2020-11-04    4     11  2020    TO      76175    1108     True   \n",
       "38885  2020-11-05    5     11  2020    DF     214955    3728     True   \n",
       "\n",
       "        estimated_population_2019  estimated_population  city_ibge_code  \\\n",
       "668623                 7164788.00            7252502.00           42.00   \n",
       "651937                  605761.00             631181.00           14.00   \n",
       "4247                    845731.00             861773.00           16.00   \n",
       "802533                 1572866.00            1590248.00           17.00   \n",
       "38885                  3015268.00            3055149.00           53.00   \n",
       "\n",
       "        confirmed_per_100k_inhabitants  death_rate  \n",
       "668623                         3704.16        0.01  \n",
       "651937                         9237.29        0.01  \n",
       "4247                           6130.62        0.01  \n",
       "802533                         4790.13        0.01  \n",
       "38885                          7035.83        0.02  "
      ]
     },
     "execution_count": 19,
     "metadata": {},
     "output_type": "execute_result"
    }
   ],
   "source": [
    "new_df[new_df['month'] == 11].head()"
   ]
  },
  {
   "cell_type": "code",
   "execution_count": 20,
   "metadata": {},
   "outputs": [
    {
     "data": {
      "image/png": "[encoded data removed]",
      "text/plain": [
       "<Figure size 432x648 with 1 Axes>"
      ]
     },
     "metadata": {
      "needs_background": "light"
     },
     "output_type": "display_data"
    }
   ],
   "source": [
    "plt.figure(figsize=(6,9))\n",
    "plt.barh(new_df['state'],new_df['death_rate'],label='Ratio'\n",
    "         ,edgecolor='black',linewidth=1,alpha=0.75)\n",
    "plt.legend()\n",
    "plt.title(f'Ratio de mortes por estado data: {new_df.date.dt.month.max()} / {new_df.date.dt.day.max()}')\n",
    "plt.show()"
   ]
  },
  {
   "cell_type": "markdown",
   "metadata": {},
   "source": [
    "# Tendência Evolutiva SP"
   ]
  },
  {
   "cell_type": "code",
   "execution_count": 21,
   "metadata": {},
   "outputs": [],
   "source": [
    "sp = df[df['state'] == 'SP'].copy()"
   ]
  },
  {
   "cell_type": "code",
   "execution_count": 22,
   "metadata": {},
   "outputs": [
    {
     "data": {
      "text/html": [
       "<div>\n",
       "<style scoped>\n",
       "    .dataframe tbody tr th:only-of-type {\n",
       "        vertical-align: middle;\n",
       "    }\n",
       "\n",
       "    .dataframe tbody tr th {\n",
       "        vertical-align: top;\n",
       "    }\n",
       "\n",
       "    .dataframe thead th {\n",
       "        text-align: right;\n",
       "    }\n",
       "</style>\n",
       "<table border=\"1\" class=\"dataframe\">\n",
       "  <thead>\n",
       "    <tr style=\"text-align: right;\">\n",
       "      <th></th>\n",
       "      <th>date</th>\n",
       "      <th>day</th>\n",
       "      <th>month</th>\n",
       "      <th>year</th>\n",
       "      <th>state</th>\n",
       "      <th>confirmed</th>\n",
       "      <th>deaths</th>\n",
       "      <th>is_last</th>\n",
       "      <th>estimated_population_2019</th>\n",
       "      <th>estimated_population</th>\n",
       "      <th>city_ibge_code</th>\n",
       "      <th>confirmed_per_100k_inhabitants</th>\n",
       "      <th>death_rate</th>\n",
       "    </tr>\n",
       "  </thead>\n",
       "  <tbody>\n",
       "    <tr>\n",
       "      <th>821973</th>\n",
       "      <td>2020-11-05</td>\n",
       "      <td>5</td>\n",
       "      <td>11</td>\n",
       "      <td>2020</td>\n",
       "      <td>SP</td>\n",
       "      <td>1125936</td>\n",
       "      <td>39717</td>\n",
       "      <td>True</td>\n",
       "      <td>45919049.00</td>\n",
       "      <td>46289333.00</td>\n",
       "      <td>35.00</td>\n",
       "      <td>2432.39</td>\n",
       "      <td>0.04</td>\n",
       "    </tr>\n",
       "    <tr>\n",
       "      <th>821974</th>\n",
       "      <td>2020-11-04</td>\n",
       "      <td>4</td>\n",
       "      <td>11</td>\n",
       "      <td>2020</td>\n",
       "      <td>SP</td>\n",
       "      <td>1123299</td>\n",
       "      <td>39549</td>\n",
       "      <td>False</td>\n",
       "      <td>45919049.00</td>\n",
       "      <td>46289333.00</td>\n",
       "      <td>35.00</td>\n",
       "      <td>2426.69</td>\n",
       "      <td>0.04</td>\n",
       "    </tr>\n",
       "    <tr>\n",
       "      <th>821975</th>\n",
       "      <td>2020-11-03</td>\n",
       "      <td>3</td>\n",
       "      <td>11</td>\n",
       "      <td>2020</td>\n",
       "      <td>SP</td>\n",
       "      <td>1118544</td>\n",
       "      <td>39364</td>\n",
       "      <td>False</td>\n",
       "      <td>45919049.00</td>\n",
       "      <td>46289333.00</td>\n",
       "      <td>35.00</td>\n",
       "      <td>2416.42</td>\n",
       "      <td>0.04</td>\n",
       "    </tr>\n",
       "    <tr>\n",
       "      <th>821976</th>\n",
       "      <td>2020-11-02</td>\n",
       "      <td>2</td>\n",
       "      <td>11</td>\n",
       "      <td>2020</td>\n",
       "      <td>SP</td>\n",
       "      <td>1117795</td>\n",
       "      <td>39346</td>\n",
       "      <td>False</td>\n",
       "      <td>45919049.00</td>\n",
       "      <td>46289333.00</td>\n",
       "      <td>35.00</td>\n",
       "      <td>2414.80</td>\n",
       "      <td>0.04</td>\n",
       "    </tr>\n",
       "    <tr>\n",
       "      <th>821977</th>\n",
       "      <td>2020-11-01</td>\n",
       "      <td>1</td>\n",
       "      <td>11</td>\n",
       "      <td>2020</td>\n",
       "      <td>SP</td>\n",
       "      <td>1117147</td>\n",
       "      <td>39331</td>\n",
       "      <td>False</td>\n",
       "      <td>45919049.00</td>\n",
       "      <td>46289333.00</td>\n",
       "      <td>35.00</td>\n",
       "      <td>2413.40</td>\n",
       "      <td>0.04</td>\n",
       "    </tr>\n",
       "  </tbody>\n",
       "</table>\n",
       "</div>"
      ],
      "text/plain": [
       "             date  day  month  year state  confirmed  deaths  is_last  \\\n",
       "821973 2020-11-05    5     11  2020    SP    1125936   39717     True   \n",
       "821974 2020-11-04    4     11  2020    SP    1123299   39549    False   \n",
       "821975 2020-11-03    3     11  2020    SP    1118544   39364    False   \n",
       "821976 2020-11-02    2     11  2020    SP    1117795   39346    False   \n",
       "821977 2020-11-01    1     11  2020    SP    1117147   39331    False   \n",
       "\n",
       "        estimated_population_2019  estimated_population  city_ibge_code  \\\n",
       "821973                45919049.00           46289333.00           35.00   \n",
       "821974                45919049.00           46289333.00           35.00   \n",
       "821975                45919049.00           46289333.00           35.00   \n",
       "821976                45919049.00           46289333.00           35.00   \n",
       "821977                45919049.00           46289333.00           35.00   \n",
       "\n",
       "        confirmed_per_100k_inhabitants  death_rate  \n",
       "821973                         2432.39        0.04  \n",
       "821974                         2426.69        0.04  \n",
       "821975                         2416.42        0.04  \n",
       "821976                         2414.80        0.04  \n",
       "821977                         2413.40        0.04  "
      ]
     },
     "execution_count": 22,
     "metadata": {},
     "output_type": "execute_result"
    }
   ],
   "source": [
    "sp.head()"
   ]
  },
  {
   "cell_type": "code",
   "execution_count": 23,
   "metadata": {},
   "outputs": [],
   "source": [
    "sp_grouped = sp.groupby('month').max()"
   ]
  },
  {
   "cell_type": "code",
   "execution_count": 24,
   "metadata": {},
   "outputs": [
    {
     "data": {
      "text/html": [
       "<div>\n",
       "<style scoped>\n",
       "    .dataframe tbody tr th:only-of-type {\n",
       "        vertical-align: middle;\n",
       "    }\n",
       "\n",
       "    .dataframe tbody tr th {\n",
       "        vertical-align: top;\n",
       "    }\n",
       "\n",
       "    .dataframe thead th {\n",
       "        text-align: right;\n",
       "    }\n",
       "</style>\n",
       "<table border=\"1\" class=\"dataframe\">\n",
       "  <thead>\n",
       "    <tr style=\"text-align: right;\">\n",
       "      <th></th>\n",
       "      <th>date</th>\n",
       "      <th>day</th>\n",
       "      <th>year</th>\n",
       "      <th>state</th>\n",
       "      <th>confirmed</th>\n",
       "      <th>deaths</th>\n",
       "      <th>is_last</th>\n",
       "      <th>estimated_population_2019</th>\n",
       "      <th>estimated_population</th>\n",
       "      <th>city_ibge_code</th>\n",
       "      <th>confirmed_per_100k_inhabitants</th>\n",
       "      <th>death_rate</th>\n",
       "    </tr>\n",
       "    <tr>\n",
       "      <th>month</th>\n",
       "      <th></th>\n",
       "      <th></th>\n",
       "      <th></th>\n",
       "      <th></th>\n",
       "      <th></th>\n",
       "      <th></th>\n",
       "      <th></th>\n",
       "      <th></th>\n",
       "      <th></th>\n",
       "      <th></th>\n",
       "      <th></th>\n",
       "      <th></th>\n",
       "    </tr>\n",
       "  </thead>\n",
       "  <tbody>\n",
       "    <tr>\n",
       "      <th>7</th>\n",
       "      <td>2020-07-31</td>\n",
       "      <td>31</td>\n",
       "      <td>2020</td>\n",
       "      <td>SP</td>\n",
       "      <td>542304</td>\n",
       "      <td>22997</td>\n",
       "      <td>False</td>\n",
       "      <td>45919049.00</td>\n",
       "      <td>46289333.00</td>\n",
       "      <td>35.00</td>\n",
       "      <td>1171.55</td>\n",
       "      <td>0.05</td>\n",
       "    </tr>\n",
       "    <tr>\n",
       "      <th>8</th>\n",
       "      <td>2020-08-31</td>\n",
       "      <td>31</td>\n",
       "      <td>2020</td>\n",
       "      <td>SP</td>\n",
       "      <td>804342</td>\n",
       "      <td>30014</td>\n",
       "      <td>False</td>\n",
       "      <td>45919049.00</td>\n",
       "      <td>46289333.00</td>\n",
       "      <td>35.00</td>\n",
       "      <td>1737.64</td>\n",
       "      <td>0.04</td>\n",
       "    </tr>\n",
       "    <tr>\n",
       "      <th>9</th>\n",
       "      <td>2020-09-30</td>\n",
       "      <td>30</td>\n",
       "      <td>2020</td>\n",
       "      <td>SP</td>\n",
       "      <td>985628</td>\n",
       "      <td>35622</td>\n",
       "      <td>False</td>\n",
       "      <td>45919049.00</td>\n",
       "      <td>46289333.00</td>\n",
       "      <td>35.00</td>\n",
       "      <td>2129.28</td>\n",
       "      <td>0.04</td>\n",
       "    </tr>\n",
       "    <tr>\n",
       "      <th>10</th>\n",
       "      <td>2020-10-31</td>\n",
       "      <td>31</td>\n",
       "      <td>2020</td>\n",
       "      <td>SP</td>\n",
       "      <td>1116127</td>\n",
       "      <td>39311</td>\n",
       "      <td>False</td>\n",
       "      <td>45919049.00</td>\n",
       "      <td>46289333.00</td>\n",
       "      <td>35.00</td>\n",
       "      <td>2411.20</td>\n",
       "      <td>0.04</td>\n",
       "    </tr>\n",
       "    <tr>\n",
       "      <th>11</th>\n",
       "      <td>2020-11-05</td>\n",
       "      <td>5</td>\n",
       "      <td>2020</td>\n",
       "      <td>SP</td>\n",
       "      <td>1125936</td>\n",
       "      <td>39717</td>\n",
       "      <td>True</td>\n",
       "      <td>45919049.00</td>\n",
       "      <td>46289333.00</td>\n",
       "      <td>35.00</td>\n",
       "      <td>2432.39</td>\n",
       "      <td>0.04</td>\n",
       "    </tr>\n",
       "  </tbody>\n",
       "</table>\n",
       "</div>"
      ],
      "text/plain": [
       "            date  day  year state  confirmed  deaths  is_last  \\\n",
       "month                                                           \n",
       "7     2020-07-31   31  2020    SP     542304   22997    False   \n",
       "8     2020-08-31   31  2020    SP     804342   30014    False   \n",
       "9     2020-09-30   30  2020    SP     985628   35622    False   \n",
       "10    2020-10-31   31  2020    SP    1116127   39311    False   \n",
       "11    2020-11-05    5  2020    SP    1125936   39717     True   \n",
       "\n",
       "       estimated_population_2019  estimated_population  city_ibge_code  \\\n",
       "month                                                                    \n",
       "7                    45919049.00           46289333.00           35.00   \n",
       "8                    45919049.00           46289333.00           35.00   \n",
       "9                    45919049.00           46289333.00           35.00   \n",
       "10                   45919049.00           46289333.00           35.00   \n",
       "11                   45919049.00           46289333.00           35.00   \n",
       "\n",
       "       confirmed_per_100k_inhabitants  death_rate  \n",
       "month                                              \n",
       "7                             1171.55        0.05  \n",
       "8                             1737.64        0.04  \n",
       "9                             2129.28        0.04  \n",
       "10                            2411.20        0.04  \n",
       "11                            2432.39        0.04  "
      ]
     },
     "execution_count": 24,
     "metadata": {},
     "output_type": "execute_result"
    }
   ],
   "source": [
    "sp_grouped.tail()"
   ]
  },
  {
   "cell_type": "markdown",
   "metadata": {},
   "source": [
    "### Casos por 100k habitantes"
   ]
  },
  {
   "cell_type": "code",
   "execution_count": 31,
   "metadata": {},
   "outputs": [
    {
     "data": {
      "image/png": "[encoded data removed]",
      "text/plain": [
       "<Figure size 720x432 with 1 Axes>"
      ]
     },
     "metadata": {
      "needs_background": "light"
     },
     "output_type": "display_data"
    }
   ],
   "source": [
    "xlabels = ['Fevereiro','Março','Abril','Mayo','Junho','Agosto','Setembro','Outubro','Novembro','Dezembro']\n",
    "\n",
    "plt.figure(figsize=(10,6))\n",
    "\n",
    "plt.plot(sp_grouped['confirmed_per_100k_inhabitants'],label='confirmed_per_100k_inhabitants')\n",
    "plt.xticks(sp_grouped.index,xlabels,rotation=90)\n",
    "plt.legend()\n",
    "plt.title(f'# Casos por cada 100k habitantes no estado de SP - última atualização: {new_df.date.dt.month.max()} / {new_df.date.dt.day.max()}')\n",
    "plt.show()"
   ]
  },
  {
   "cell_type": "markdown",
   "metadata": {},
   "source": [
    "### Mortes"
   ]
  },
  {
   "cell_type": "code",
   "execution_count": 25,
   "metadata": {},
   "outputs": [
    {
     "data": {
      "image/png": "[encoded data removed]",
      "text/plain": [
       "<Figure size 720x432 with 1 Axes>"
      ]
     },
     "metadata": {
      "needs_background": "light"
     },
     "output_type": "display_data"
    }
   ],
   "source": [
    "plt.figure(figsize=(10,6))\n",
    "\n",
    "plt.plot(sp_grouped['deaths'],label='deaths')\n",
    "plt.xticks(sp_grouped.index,xlabels,rotation=90)\n",
    "plt.legend()\n",
    "plt.title(f'# mortes no estado de SP - última atualização: {new_df.date.dt.month.max()} / {new_df.date.dt.day.max()}')\n",
    "plt.show()"
   ]
  },
  {
   "cell_type": "markdown",
   "metadata": {},
   "source": [
    "### Comparando SP e RJ"
   ]
  },
  {
   "cell_type": "code",
   "execution_count": 26,
   "metadata": {},
   "outputs": [],
   "source": [
    "rj = df[df['state'] == 'RJ'].copy()"
   ]
  },
  {
   "cell_type": "code",
   "execution_count": 27,
   "metadata": {},
   "outputs": [],
   "source": [
    "rj_grouped = rj.groupby('month').max()"
   ]
  },
  {
   "cell_type": "markdown",
   "metadata": {},
   "source": [
    "### Casos por cada 100k Habitantes"
   ]
  },
  {
   "cell_type": "code",
   "execution_count": 321,
   "metadata": {},
   "outputs": [
    {
     "data": {
      "image/png": "[encoded data removed]",
      "text/plain": [
       "<Figure size 720x432 with 1 Axes>"
      ]
     },
     "metadata": {
      "needs_background": "light"
     },
     "output_type": "display_data"
    }
   ],
   "source": [
    "plt.figure(figsize=(10,6))\n",
    "\n",
    "plt.plot(sp_grouped['confirmed_per_100k_inhabitants'],label='São Paulo')\n",
    "plt.plot(rj_grouped['confirmed_per_100k_inhabitants'],label='Rio de Janeiro')\n",
    "plt.plot\n",
    "plt.xticks(sp_grouped.index,xlabels,rotation=90)\n",
    "plt.text(7.1, 0, 'Até meiados de Abril não tiveram casos confirmados', fontsize=9,horizontalalignment='left' ,color='purple')\n",
    "plt.plot([4.5], [150.9], 'o',color='black')\n",
    "plt.annotate('Confirmados', xy=(4.5, 150.5), xytext=(5.6, 100), fontsize=12,\n",
    "            arrowprops=dict(facecolor='black', shrink=0.15))\n",
    "\n",
    "plt.plot([11.0], [1810.7], 'o',color='orange')\n",
    "plt.plot([11.0], [2440.5], 'o',color='#1f77b4')\n",
    "plt.annotate('{:.0f}'.format(rj_grouped['confirmed_per_100k_inhabitants'].iloc[-1]), xy=(10.5, 1900.7), xytext=(10.8, 1880.7), fontsize=8,c='orange')\n",
    "plt.annotate('{:.0f}'.format(sp_grouped['confirmed_per_100k_inhabitants'].iloc[-1]), xy=(10.8, 2489.5), xytext=(10.8, 2489.5), fontsize=8,c='#1f77b4')\n",
    "\n",
    "plt.legend()\n",
    "plt.title(f'# Comparativa Casos confirmado por cada 100k habitantes SP/RJ - última atualização: {new_df.date.dt.month.max()} / {new_df.date.dt.day.max()}')\n",
    "plt.show()"
   ]
  },
  {
   "cell_type": "code",
   "execution_count": null,
   "metadata": {},
   "outputs": [],
   "source": []
  },
  {
   "cell_type": "markdown",
   "metadata": {},
   "source": [
    "### Mortes"
   ]
  },
  {
   "cell_type": "code",
   "execution_count": 320,
   "metadata": {},
   "outputs": [
    {
     "data": {
      "image/png": "[encoded data removed]",
      "text/plain": [
       "<Figure size 720x432 with 1 Axes>"
      ]
     },
     "metadata": {
      "needs_background": "light"
     },
     "output_type": "display_data"
    }
   ],
   "source": [
    "plt.figure(figsize=(10,6))\n",
    "\n",
    "plt.plot(sp_grouped['death_rate'] * 100,label='São Paulo')\n",
    "plt.plot(rj_grouped['death_rate'] * 100,label='Rio de Janeiro')\n",
    "plt.plot\n",
    "plt.xticks(sp_grouped.index,xlabels,rotation=90)\n",
    "\n",
    "plt.text(4.8, 0, 'Maiores picos de mortes foram antes de começar a confirmar casos de COVID-19', fontsize=9,horizontalalignment='left' ,color='purple')\n",
    "plt.plot([5.0], [12.2], 'o',color='black')\n",
    "plt.plot([4.0], [8.6], 'o',color='black')\n",
    "plt.annotate('Pico ratio de mortes', xy=(5.2, 12.1), xytext=(5.2, 12.1), fontsize=9)\n",
    "plt.annotate('Pico ratio de mortes', xy=(4.2, 8.7), xytext=(4.2, 8.7), fontsize=9)\n",
    "\n",
    "# Mark dos últimos dados\n",
    "plt.plot([11.0], [6.7], 'o',color='orange')\n",
    "plt.plot([11.0], [3.55], 'o',color='#1f77b4')\n",
    "plt.annotate('% {}'.format(rj_grouped['death_rate'].iloc[-1]*100), xy=(10.5, 6.7), xytext=(10.8, 7.0), fontsize=8,c='orange')\n",
    "plt.annotate('% {}'.format(sp_grouped['death_rate'].iloc[-1]*100), xy=(10.8, 3.9), xytext=(10.8, 3.9), fontsize=8,c='#1f77b4')\n",
    "\n",
    "\n",
    "plt.legend()\n",
    "plt.title(f'% Comparativa Ratio de mortes SP/RJ - última atualização: {new_df.date.dt.month.max()} / {new_df.date.dt.day.max()}')\n",
    "plt.show()"
   ]
  },
  {
   "cell_type": "code",
   "execution_count": null,
   "metadata": {},
   "outputs": [],
   "source": []
  }
 ],
 "metadata": {
  "colab": {
   "name": "Copia de Projeto Módulo 01.ipynb",
   "provenance": []
  },
  "kernelspec": {
   "display_name": "Python 3",
   "language": "python",
   "name": "python3"
  },
  "language_info": {
   "codemirror_mode": {
    "name": "ipython",
    "version": 3
   },
   "file_extension": ".py",
   "mimetype": "text/x-python",
   "name": "python",
   "nbconvert_exporter": "python",
   "pygments_lexer": "ipython3",
   "version": "3.8.3"
  }
 },
 "nbformat": 4,
 "nbformat_minor": 4
}
